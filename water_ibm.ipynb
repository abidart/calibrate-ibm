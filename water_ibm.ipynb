{
 "cells": [
  {
   "cell_type": "markdown",
   "metadata": {},
   "source": [
    "# Computing the energy of water on IBM"
   ]
  },
  {
   "cell_type": "markdown",
   "metadata": {},
   "source": [
    "## Set experiment parameters"
   ]
  },
  {
   "cell_type": "code",
   "execution_count": null,
   "metadata": {},
   "outputs": [],
   "source": [
    "ibm_computer: str = \"ibm_fez\"\n",
    "qubits = [153, 152, 151, 150, 149, 148, 147, 146, 145, 144, 143, 136, 123, 124]\n",
    "nshots: int = 50_000\n",
    "\n",
    "len(qubits)"
   ]
  },
  {
   "cell_type": "markdown",
   "metadata": {},
   "source": [
    "## Setup"
   ]
  },
  {
   "cell_type": "code",
   "execution_count": null,
   "metadata": {},
   "outputs": [],
   "source": [
    "from collections import Counter\n",
    "from typing import Tuple\n",
    "\n",
    "import matplotlib.pyplot as plt; plt.rcParams.update({\"font.family\": \"serif\"})\n",
    "import networkx as nx\n",
    "import numpy as np\n",
    "import pickle\n",
    "\n",
    "import cirq\n",
    "from cirq.contrib.qasm_import import circuit_from_qasm\n",
    "import openfermion as of\n",
    "\n",
    "import qiskit\n",
    "from qiskit import qasm2, qasm3\n",
    "from qiskit_aer import AerSimulator\n",
    "import qiskit_ibm_runtime\n",
    "from qiskit_ibm_runtime import SamplerV2 as Sampler"
   ]
  },
  {
   "cell_type": "code",
   "execution_count": null,
   "metadata": {},
   "outputs": [],
   "source": [
    "service = qiskit_ibm_runtime.QiskitRuntimeService(name=\"NERSC-US\")\n",
    "computer = service.backend(ibm_computer)\n",
    "sampler = Sampler(computer)"
   ]
  },
  {
   "cell_type": "markdown",
   "metadata": {},
   "source": [
    "## Read in the Hamiltonian and ansatz circuit"
   ]
  },
  {
   "cell_type": "code",
   "execution_count": null,
   "metadata": {},
   "outputs": [],
   "source": [
    "hamiltonian = of.jordan_wigner(\n",
    "        of.get_fermion_operator(\n",
    "    of.chem.MolecularData(filename=\"monomer_eqb.hdf5\").get_molecular_hamiltonian()\n",
    "    )\n",
    ")\n",
    "nqubits = of.utils.count_qubits(hamiltonian)\n",
    "nterms  = len(hamiltonian.terms)\n",
    "\n",
    "print(f\"Hamiltonian acts on {nqubits} qubit(s) and has {nterms} term(s).\")"
   ]
  },
  {
   "cell_type": "code",
   "execution_count": null,
   "metadata": {},
   "outputs": [],
   "source": [
    "hamiltonian_cirq = of.qubit_operator_to_pauli_sum(hamiltonian)"
   ]
  },
  {
   "cell_type": "code",
   "execution_count": null,
   "metadata": {
    "scrolled": true
   },
   "outputs": [],
   "source": [
    "water_eqb_circuits = pickle.load(open(\"./water_eqb_circuits\", \"rb\"))\n",
    "\n",
    "for i, (error, circuit, layout) in enumerate(water_eqb_circuits):\n",
    "    print(\"Error =\", error)\n",
    "    print(\"Circuit stats:\", circuit.count_ops())\n",
    "    # qasm3.dump(circuit, open(f\"circuit_{i}_error_{error}\", \"w\"))"
   ]
  },
  {
   "cell_type": "code",
   "execution_count": null,
   "metadata": {},
   "outputs": [],
   "source": [
    "error, circuit, layout = water_eqb_circuits[5]\n",
    "circuit.draw(fold=-1, idle_wires=False)"
   ]
  },
  {
   "cell_type": "code",
   "execution_count": null,
   "metadata": {},
   "outputs": [],
   "source": [
    "order = [1, 9, 8, 0, 7, 12, 13, 5, 4, 6, 3, 2, 10, 11]\n",
    "perm = {cirq.LineQubit(i): o for i, o in enumerate(order)}\n",
    "perm"
   ]
  },
  {
   "cell_type": "code",
   "execution_count": null,
   "metadata": {},
   "outputs": [],
   "source": [
    "base = circuit.copy()\n",
    "base = qiskit.transpiler.passes.RemoveBarriers()(base)\n",
    "base.draw(fold=-1, idle_wires=False)"
   ]
  },
  {
   "cell_type": "code",
   "execution_count": null,
   "metadata": {},
   "outputs": [],
   "source": [
    "circuit_cirq = circuit_from_qasm(qasm2.dumps(base))\n",
    "circuit_cirq"
   ]
  },
  {
   "cell_type": "code",
   "execution_count": null,
   "metadata": {},
   "outputs": [],
   "source": [
    "psi = cirq.Simulator().simulate(circuit_cirq).final_state_vector"
   ]
  },
  {
   "cell_type": "code",
   "execution_count": null,
   "metadata": {},
   "outputs": [],
   "source": [
    "energy_exact = hamiltonian_cirq.expectation_from_state_vector(\n",
    "    psi, perm\n",
    ")\n",
    "energy_exact"
   ]
  },
  {
   "cell_type": "markdown",
   "metadata": {},
   "source": [
    "## Preprocessing"
   ]
  },
  {
   "cell_type": "markdown",
   "metadata": {},
   "source": [
    "### Compile the circuit"
   ]
  },
  {
   "cell_type": "code",
   "execution_count": null,
   "metadata": {},
   "outputs": [],
   "source": [
    "base = qiskit.transpile(\n",
    "    base,\n",
    "    optimization_level=3,\n",
    "    # initial_layout=qubits,\n",
    "    seed_transpiler=1,\n",
    ")\n",
    "print(base.count_ops())\n",
    "base.draw(fold=-1, idle_wires=False)"
   ]
  },
  {
   "cell_type": "markdown",
   "metadata": {},
   "source": [
    "### Compress the Hamiltonian"
   ]
  },
  {
   "cell_type": "code",
   "execution_count": null,
   "metadata": {},
   "outputs": [],
   "source": [
    "# hamiltonian.compress(0.001)"
   ]
  },
  {
   "cell_type": "markdown",
   "metadata": {},
   "source": [
    "### Compute exact energy for comparison"
   ]
  },
  {
   "cell_type": "code",
   "execution_count": null,
   "metadata": {},
   "outputs": [],
   "source": [
    "circuit_cirq = circuit_from_qasm(qasm2.dumps(base))\n",
    "circuit_cirq"
   ]
  },
  {
   "cell_type": "code",
   "execution_count": null,
   "metadata": {},
   "outputs": [],
   "source": [
    "psi = cirq.Simulator().simulate(circuit_cirq).final_state_vector"
   ]
  },
  {
   "cell_type": "code",
   "execution_count": null,
   "metadata": {},
   "outputs": [],
   "source": [
    "energy_exact = hamiltonian_cirq.expectation_from_state_vector(\n",
    "    psi, {q: i for i, q in enumerate(hamiltonian_cirq.qubits)}\n",
    ")\n",
    "energy_exact"
   ]
  },
  {
   "cell_type": "code",
   "execution_count": null,
   "metadata": {},
   "outputs": [],
   "source": [
    "circuit_qiskit = qiskit.QuantumCircuit.from_qasm_str(circuit_cirq.to_qasm())\n",
    "circuit_qiskit.draw(fold=-1)"
   ]
  },
  {
   "cell_type": "code",
   "execution_count": null,
   "metadata": {},
   "outputs": [],
   "source": [
    "circuit_qiskit.save_statevector()\n",
    "res = AerSimulator().run(circuit_qiskit).result()"
   ]
  },
  {
   "cell_type": "code",
   "execution_count": null,
   "metadata": {},
   "outputs": [],
   "source": [
    "psi_qiskit = res.data(circuit_qiskit)[\"statevector\"].data"
   ]
  },
  {
   "cell_type": "code",
   "execution_count": null,
   "metadata": {},
   "outputs": [],
   "source": [
    "energy_exact_qiskit = hamiltonian_cirq.expectation_from_state_vector(\n",
    "    psi_qiskit, {q: nqubits - i - 1 for i, q in enumerate(hamiltonian_cirq.qubits)}  # Note reversed qubit order between Cirq / Qiskit.\n",
    ")\n",
    "energy_exact_qiskit"
   ]
  },
  {
   "cell_type": "code",
   "execution_count": null,
   "metadata": {},
   "outputs": [],
   "source": [
    "assert np.isclose(energy_exact_qiskit, energy_exact)"
   ]
  },
  {
   "cell_type": "markdown",
   "metadata": {},
   "source": [
    "### Group Hamiltonian"
   ]
  },
  {
   "cell_type": "code",
   "execution_count": null,
   "metadata": {},
   "outputs": [],
   "source": [
    "import kcommute"
   ]
  },
  {
   "cell_type": "code",
   "execution_count": null,
   "metadata": {},
   "outputs": [],
   "source": [
    "groups = kcommute.get_si_sets(hamiltonian, kcommute.compute_blocks(hamiltonian_cirq.qubits, k=nqubits))"
   ]
  },
  {
   "cell_type": "code",
   "execution_count": null,
   "metadata": {},
   "outputs": [],
   "source": [
    "groups_cirq = [of.qubit_operator_to_pauli_sum(sum(group)) for group in groups]"
   ]
  },
  {
   "cell_type": "code",
   "execution_count": null,
   "metadata": {},
   "outputs": [],
   "source": [
    "plt.bar(range(len(groups)), [len(group) for group in groups])\n",
    "plt.xlabel(\"Group number\")\n",
    "plt.ylabel(\"Terms in group\");"
   ]
  },
  {
   "cell_type": "markdown",
   "metadata": {},
   "source": [
    "### Get measurement circuits"
   ]
  },
  {
   "cell_type": "code",
   "execution_count": null,
   "metadata": {},
   "outputs": [],
   "source": [
    "from diagonalize import diagonalize_pauli_strings"
   ]
  },
  {
   "cell_type": "code",
   "execution_count": null,
   "metadata": {},
   "outputs": [],
   "source": [
    "measurement_circuits = []\n",
    "conjugated_paulis = []\n",
    "for i, group in enumerate(groups_cirq):\n",
    "    print(f\"On group {i + 1} / {len(groups)}.\", end=\"\\r\")\n",
    "    meas_circuit, conjugated_strings = diagonalize_pauli_strings(group, cirq.LineQubit.range(nqubits))\n",
    "    measurement_circuits.append(meas_circuit)\n",
    "    conjugated_paulis.append(conjugated_strings)"
   ]
  },
  {
   "cell_type": "code",
   "execution_count": null,
   "metadata": {},
   "outputs": [],
   "source": [
    "twoq_measurement_circuit_counts = [\n",
    "    len([op for op in m.all_operations() if len(op.qubits) == 2])\n",
    "    for m in measurement_circuits\n",
    "]\n",
    "plt.bar(range(len(twoq_measurement_circuit_counts)), twoq_measurement_circuit_counts)\n",
    "plt.xlabel(\"Group index\")\n",
    "plt.ylabel(\"Number of two-qubit gates in diagonalizing circuit\");"
   ]
  },
  {
   "cell_type": "code",
   "execution_count": null,
   "metadata": {},
   "outputs": [],
   "source": [
    "np.average(twoq_measurement_circuit_counts)"
   ]
  },
  {
   "cell_type": "markdown",
   "metadata": {},
   "source": [
    "#### Conversions"
   ]
  },
  {
   "cell_type": "code",
   "execution_count": null,
   "metadata": {},
   "outputs": [],
   "source": [
    "circuit_cirq = circuit_from_qasm(qasm2.dumps(base))"
   ]
  },
  {
   "cell_type": "code",
   "execution_count": null,
   "metadata": {},
   "outputs": [],
   "source": [
    "qmap = {qold: qnew for qold, qnew in zip(sorted(circuit_cirq.all_qubits()), cirq.LineQubit.range(nqubits))}\n",
    "qmap"
   ]
  },
  {
   "cell_type": "code",
   "execution_count": null,
   "metadata": {},
   "outputs": [],
   "source": [
    "circuit_cirq = circuit_cirq.transform_qubits(qmap)\n",
    "circuit_cirq"
   ]
  },
  {
   "cell_type": "code",
   "execution_count": null,
   "metadata": {},
   "outputs": [],
   "source": [
    "psi = cirq.Simulator().simulate(circuit_cirq).final_state_vector"
   ]
  },
  {
   "cell_type": "code",
   "execution_count": null,
   "metadata": {},
   "outputs": [],
   "source": [
    "qmap = {q: i for i, q in enumerate(hamiltonian_cirq.qubits)}"
   ]
  },
  {
   "cell_type": "code",
   "execution_count": null,
   "metadata": {},
   "outputs": [],
   "source": [
    "hamiltonian_cirq.expectation_from_state_vector(psi, qmap)"
   ]
  },
  {
   "cell_type": "markdown",
   "metadata": {},
   "source": [
    "#### Compute energy exactly after conversions + grouping"
   ]
  },
  {
   "cell_type": "code",
   "execution_count": null,
   "metadata": {},
   "outputs": [],
   "source": [
    "sum([len(group) for group in groups_cirq])"
   ]
  },
  {
   "cell_type": "code",
   "execution_count": null,
   "metadata": {},
   "outputs": [],
   "source": [
    "len(list(hamiltonian_cirq))"
   ]
  },
  {
   "cell_type": "code",
   "execution_count": null,
   "metadata": {},
   "outputs": [],
   "source": [
    "identity_term = list(hamiltonian_cirq)[0].coefficient\n",
    "identity_term"
   ]
  },
  {
   "cell_type": "code",
   "execution_count": null,
   "metadata": {},
   "outputs": [],
   "source": [
    "expval = 0.0\n",
    "for group in groups_cirq:\n",
    "    expval += sum(group).expectation_from_state_vector(psi, qmap)\n",
    "expval"
   ]
  },
  {
   "cell_type": "code",
   "execution_count": null,
   "metadata": {},
   "outputs": [],
   "source": [
    "assert np.isclose(expval + identity_term, energy_exact)"
   ]
  },
  {
   "cell_type": "code",
   "execution_count": null,
   "metadata": {},
   "outputs": [],
   "source": [
    "to_run_cirq = [circuit_cirq + measurement_circuit for measurement_circuit in measurement_circuits]"
   ]
  },
  {
   "cell_type": "code",
   "execution_count": null,
   "metadata": {},
   "outputs": [],
   "source": [
    "psis = [cirq.Simulator().simulate(c).final_state_vector for c in to_run_cirq]"
   ]
  },
  {
   "cell_type": "code",
   "execution_count": null,
   "metadata": {},
   "outputs": [],
   "source": [
    "expval = 0.0\n",
    "for pauli_list, psi in zip(conjugated_paulis, psis):\n",
    "    expval += sum(pauli_list).expectation_from_state_vector(psi, qmap)\n",
    "expval"
   ]
  },
  {
   "cell_type": "code",
   "execution_count": null,
   "metadata": {},
   "outputs": [],
   "source": [
    "assert np.isclose(expval + identity_term, energy_exact)"
   ]
  },
  {
   "cell_type": "markdown",
   "metadata": {},
   "source": [
    "### Compute energy exactly after conversions + grouping with sampling"
   ]
  },
  {
   "cell_type": "code",
   "execution_count": null,
   "metadata": {},
   "outputs": [],
   "source": [
    "qubits_cirq = cirq.LineQubit.range(nqubits)"
   ]
  },
  {
   "cell_type": "code",
   "execution_count": null,
   "metadata": {},
   "outputs": [],
   "source": [
    "to_run_cirq_measured = []\n",
    "for c in to_run_cirq:\n",
    "    c = c.copy()\n",
    "    c.append(cirq.measure(qubits_cirq, key=\"z\"))\n",
    "    to_run_cirq_measured.append(c)"
   ]
  },
  {
   "cell_type": "code",
   "execution_count": null,
   "metadata": {},
   "outputs": [],
   "source": [
    "all_counts = []\n",
    "for c in to_run_cirq_measured:\n",
    "    counts = cirq.Simulator().run(c, repetitions=nshots).histogram(key=\"z\")\n",
    "    all_counts.append(\n",
    "        Counter({np.binary_repr(bitstring, width=nqubits): count for bitstring, count in counts.items()})\n",
    "    )"
   ]
  },
  {
   "cell_type": "code",
   "execution_count": null,
   "metadata": {},
   "outputs": [],
   "source": [
    "from expectation import compute_expectation"
   ]
  },
  {
   "cell_type": "code",
   "execution_count": null,
   "metadata": {},
   "outputs": [],
   "source": [
    "expval = 0.0\n",
    "for conjugated_group, counts in zip(conjugated_paulis, all_counts):\n",
    "    expval += compute_expectation(sum(conjugated_group), counts)\n",
    "expval"
   ]
  },
  {
   "cell_type": "code",
   "execution_count": null,
   "metadata": {},
   "outputs": [],
   "source": [
    "ntrials: int = 10\n",
    "sampling_errors = []\n",
    "\n",
    "for i in range(ntrials):\n",
    "    print(f\"On trial {i + 1} / {ntrials}.\")\n",
    "    all_counts = []\n",
    "    for c in to_run_cirq_measured:\n",
    "        counts = cirq.Simulator().run(c, repetitions=nshots).histogram(key=\"z\")\n",
    "        all_counts.append(\n",
    "            Counter({np.binary_repr(bitstring, width=nqubits): count for bitstring, count in counts.items()})\n",
    "        )\n",
    "    expval = 0.0\n",
    "    for conjugated_group, counts in zip(conjugated_paulis, all_counts):\n",
    "        expval += compute_expectation(sum(conjugated_group), counts)\n",
    "    sampling_errors.append(expval + identity_term - energy_exact)"
   ]
  },
  {
   "cell_type": "code",
   "execution_count": null,
   "metadata": {},
   "outputs": [],
   "source": [
    "np.average(np.abs(sampling_errors))"
   ]
  },
  {
   "cell_type": "code",
   "execution_count": null,
   "metadata": {},
   "outputs": [],
   "source": [
    "expval + identity_term - energy_exact"
   ]
  },
  {
   "cell_type": "code",
   "execution_count": null,
   "metadata": {},
   "outputs": [],
   "source": [
    "assert np.isclose(expval + identity_term, energy_exact, atol=2.0 / np.sqrt(nshots))"
   ]
  },
  {
   "cell_type": "markdown",
   "metadata": {},
   "source": [
    "### With Qiskit + sampling"
   ]
  },
  {
   "cell_type": "code",
   "execution_count": null,
   "metadata": {},
   "outputs": [],
   "source": [
    "to_run = [qiskit.QuantumCircuit.from_qasm_str(c.to_qasm()) for c in to_run_cirq]"
   ]
  },
  {
   "cell_type": "code",
   "execution_count": null,
   "metadata": {},
   "outputs": [],
   "source": [
    "for c in to_run:\n",
    "    c.measure_active()"
   ]
  },
  {
   "cell_type": "code",
   "execution_count": null,
   "metadata": {},
   "outputs": [],
   "source": [
    "to_run = qiskit.transpile(\n",
    "    to_run,\n",
    "    optimization_level=3,\n",
    "    backend=computer,\n",
    "    # initial_layout=layout\n",
    ")"
   ]
  },
  {
   "cell_type": "code",
   "execution_count": null,
   "metadata": {},
   "outputs": [],
   "source": [
    "BASE: int = 16\n",
    "\n",
    "all_counts_aer = []\n",
    "for c in to_run:\n",
    "    job = AerSimulator().run(c, shots=nshots)\n",
    "    counts = Counter(\n",
    "        {np.binary_repr(int(bitstring, BASE), nqubits): count for bitstring, count in job.result().data().get(\"counts\").items()}\n",
    "    )\n",
    "    all_counts_aer.append(counts)"
   ]
  },
  {
   "cell_type": "code",
   "execution_count": null,
   "metadata": {},
   "outputs": [],
   "source": [
    "expval = 0.0\n",
    "for conjugated_group, counts in zip(conjugated_paulis, all_counts_aer):\n",
    "    expval += compute_expectation(sum(conjugated_group), counts, little_endian=False)\n",
    "expval"
   ]
  },
  {
   "cell_type": "code",
   "execution_count": null,
   "metadata": {},
   "outputs": [],
   "source": [
    "assert np.isclose(expval + identity_term, energy_exact, atol=5.0 / np.sqrt(nshots))"
   ]
  },
  {
   "cell_type": "markdown",
   "metadata": {},
   "source": [
    "## Run on hardware"
   ]
  },
  {
   "cell_type": "code",
   "execution_count": null,
   "metadata": {},
   "outputs": [],
   "source": [
    "# job = sampler.run(to_run, shots=nshots)\n",
    "job = service.job(\"d3sj7v6jbaoc73cnd9t0\")"
   ]
  },
  {
   "cell_type": "code",
   "execution_count": null,
   "metadata": {},
   "outputs": [],
   "source": [
    "all_counts_fez = []"
   ]
  },
  {
   "cell_type": "code",
   "execution_count": null,
   "metadata": {},
   "outputs": [],
   "source": [
    "res = job.result()"
   ]
  },
  {
   "cell_type": "code",
   "execution_count": null,
   "metadata": {},
   "outputs": [],
   "source": [
    "for r in res:\n",
    "    all_counts_fez.append(r.data.meas.get_counts())"
   ]
  },
  {
   "cell_type": "code",
   "execution_count": null,
   "metadata": {},
   "outputs": [],
   "source": [
    "len(all_counts)"
   ]
  },
  {
   "cell_type": "code",
   "execution_count": null,
   "metadata": {},
   "outputs": [],
   "source": [
    "PARTICLE_NUMBER = 10"
   ]
  },
  {
   "cell_type": "code",
   "execution_count": null,
   "metadata": {},
   "outputs": [],
   "source": [
    "all_counts_fez_filtered = []"
   ]
  },
  {
   "cell_type": "code",
   "execution_count": null,
   "metadata": {},
   "outputs": [],
   "source": [
    "for counts in all_counts_fez:\n",
    "    all_counts_fez_filtered.append(\n",
    "        {bitstring: count for bitstring, count in counts.items() if bitstring.count(\"1\") == PARTICLE_NUMBER}\n",
    "    )"
   ]
  },
  {
   "cell_type": "code",
   "execution_count": null,
   "metadata": {},
   "outputs": [],
   "source": [
    "all_nshots_filtered = [sum(filtered.values()) / nshots for filtered in all_counts_fez_filtered]"
   ]
  },
  {
   "cell_type": "code",
   "execution_count": null,
   "metadata": {},
   "outputs": [],
   "source": [
    "plt.bar(\n",
    "    range(len(groups)), all_nshots_filtered\n",
    ")\n",
    "plt.xlabel(\"Circuit/group index\")\n",
    "plt.ylabel(\"Fraction of total shots\");"
   ]
  },
  {
   "cell_type": "code",
   "execution_count": null,
   "metadata": {},
   "outputs": [],
   "source": [
    "all_counts_fez = all_counts_fez_filtered"
   ]
  },
  {
   "cell_type": "code",
   "execution_count": null,
   "metadata": {},
   "outputs": [],
   "source": [
    "expval_fez = 0.0\n",
    "for conjugated_group, counts in zip(conjugated_paulis, all_counts_fez):\n",
    "    expval_fez += compute_expectation(sum(conjugated_group), counts, little_endian=False)\n",
    "expval_fez"
   ]
  },
  {
   "cell_type": "code",
   "execution_count": null,
   "metadata": {},
   "outputs": [],
   "source": [
    "energy_fez = expval_fez + identity_term\n",
    "energy_fez"
   ]
  },
  {
   "cell_type": "code",
   "execution_count": null,
   "metadata": {},
   "outputs": [],
   "source": [
    "energy_exact"
   ]
  },
  {
   "cell_type": "code",
   "execution_count": null,
   "metadata": {},
   "outputs": [],
   "source": [
    "np.abs(np.real((energy_exact - energy_fez)))"
   ]
  },
  {
   "cell_type": "code",
   "execution_count": null,
   "metadata": {},
   "outputs": [],
   "source": [
    "vs = np.array([-73.02, -72.75, -72.97, energy_fez])\n",
    "ds = np.abs(np.real(energy_exact - vs))\n",
    "np.average(ds)"
   ]
  },
  {
   "cell_type": "code",
   "execution_count": null,
   "metadata": {},
   "outputs": [],
   "source": [
    "np.std(ds, ddof=1)"
   ]
  },
  {
   "cell_type": "code",
   "execution_count": null,
   "metadata": {},
   "outputs": [],
   "source": [
    "np.abs(np.real((energy_exact - energy_fez)) / np.real(energy_exact))"
   ]
  },
  {
   "cell_type": "code",
   "execution_count": null,
   "metadata": {},
   "outputs": [],
   "source": [
    "qiskit.visualization.plot_histogram(all_counts_fez[0], number_to_keep=40)"
   ]
  },
  {
   "cell_type": "code",
   "execution_count": null,
   "metadata": {},
   "outputs": [],
   "source": [
    "to_plot = [energy_exact.real, energy_fez.real]\n",
    "\n",
    "plt.bar([\"Exact energy\", \"Fez energy\"], to_plot);"
   ]
  },
  {
   "cell_type": "code",
   "execution_count": null,
   "metadata": {},
   "outputs": [],
   "source": [
    "op_counts = Counter()\n",
    "for c in to_run:\n",
    "    for k, v in c.count_ops().items():\n",
    "        op_counts[k] += v"
   ]
  },
  {
   "cell_type": "code",
   "execution_count": null,
   "metadata": {},
   "outputs": [],
   "source": [
    "ops = list(op_counts.keys())"
   ]
  },
  {
   "cell_type": "code",
   "execution_count": null,
   "metadata": {},
   "outputs": [],
   "source": [
    "op_counts = np.array(list(op_counts.values())) / len(to_run)"
   ]
  },
  {
   "cell_type": "code",
   "execution_count": null,
   "metadata": {},
   "outputs": [],
   "source": [
    "plt.bar(ops, op_counts)\n",
    "\n",
    "plt.xlabel(\"Gate\")\n",
    "plt.ylabel(\"Average count\");"
   ]
  },
  {
   "cell_type": "code",
   "execution_count": null,
   "metadata": {},
   "outputs": [],
   "source": [
    "with open(\"all_counts_fez_oct22_3.pkl\", \"wb\") as file:\n",
    "    pickle.dump(all_counts_fez, file)"
   ]
  },
  {
   "cell_type": "markdown",
   "metadata": {},
   "source": [
    "## Save data"
   ]
  },
  {
   "cell_type": "code",
   "execution_count": null,
   "metadata": {},
   "outputs": [],
   "source": [
    "with open(\"all_circuits_fez_oct22_circuit_index_15.pkl\", \"wb\") as file:\n",
    "    pickle.dump(to_run, file)\n",
    "\n",
    "with open(\"all_counts_fez_oct22_circuit_index_15.pkl\", \"wb\") as file:\n",
    "    pickle.dump(all_counts_fez, file)\n",
    "\n",
    "with open(\"all_conjugated_paulis_fez_oct22_circuit_index_15.pkl\", \"wb\") as file:\n",
    "    pickle.dump(conjugated_paulis, file)"
   ]
  },
  {
   "cell_type": "markdown",
   "metadata": {
    "jp-MarkdownHeadingCollapsed": true
   },
   "source": [
    "## Begin QEM"
   ]
  },
  {
   "cell_type": "markdown",
   "metadata": {},
   "source": [
    "## With fractional gates"
   ]
  },
  {
   "cell_type": "code",
   "execution_count": null,
   "metadata": {},
   "outputs": [],
   "source": [
    "job_fractional_gates = sampler_fractional_gates.run([to_run], shots=nshots)"
   ]
  },
  {
   "cell_type": "code",
   "execution_count": null,
   "metadata": {},
   "outputs": [],
   "source": [
    "all_counts_frac = [result.data.measure.get_counts() for result in job_fractional_gates.result()]"
   ]
  },
  {
   "cell_type": "code",
   "execution_count": null,
   "metadata": {},
   "outputs": [],
   "source": [
    "counts_frac = [get_counts_for(c, qubit1, qubit2) for c in all_counts_frac][0]\n",
    "counts_frac"
   ]
  },
  {
   "cell_type": "code",
   "execution_count": null,
   "metadata": {},
   "outputs": [],
   "source": [
    "exp_zz_frac = sum(\n",
    "    count * (-1) ** sum(map(int, bitstring)) for bitstring, count in counts_frac.items()\n",
    ") / nshots\n",
    "exp_zz_frac"
   ]
  },
  {
   "cell_type": "markdown",
   "metadata": {},
   "source": [
    "## With dynamical decoupling"
   ]
  },
  {
   "cell_type": "code",
   "execution_count": null,
   "metadata": {},
   "outputs": [],
   "source": [
    "sampler_dd = Sampler(computer)\n",
    "sampler_dd.options.dynamical_decoupling.enable = True\n",
    "sampler_dd.options.dynamical_decoupling.sequence_type = \"XpXm\""
   ]
  },
  {
   "cell_type": "code",
   "execution_count": null,
   "metadata": {},
   "outputs": [],
   "source": [
    "# job_dd = sampler_dd.run(to_run, shots=nshots)\n",
    "job_dd = service.job(\"d3aq11s86mts73dtu7rg\")"
   ]
  },
  {
   "cell_type": "code",
   "execution_count": null,
   "metadata": {},
   "outputs": [],
   "source": [
    "all_counts_fez_dd = []"
   ]
  },
  {
   "cell_type": "code",
   "execution_count": null,
   "metadata": {},
   "outputs": [],
   "source": [
    "res_dd = job_dd.result()"
   ]
  },
  {
   "cell_type": "code",
   "execution_count": null,
   "metadata": {},
   "outputs": [],
   "source": [
    "for r in res_dd:\n",
    "    all_counts_fez_dd.append(r.data.meas.get_counts())"
   ]
  },
  {
   "cell_type": "code",
   "execution_count": null,
   "metadata": {},
   "outputs": [],
   "source": [
    "len(all_counts_fez_dd)"
   ]
  },
  {
   "cell_type": "code",
   "execution_count": null,
   "metadata": {},
   "outputs": [],
   "source": [
    "expval_fez_dd = 0.0\n",
    "for conjugated_group, counts in zip(conjugated_paulis, all_counts_fez_dd):\n",
    "    expval_fez_dd += compute_expectation(sum(conjugated_group), counts, little_endian=False)\n",
    "expval_fez_dd"
   ]
  },
  {
   "cell_type": "code",
   "execution_count": null,
   "metadata": {},
   "outputs": [],
   "source": [
    "energy_fez_dd = expval_fez_dd + identity_term\n",
    "energy_fez_dd"
   ]
  },
  {
   "cell_type": "code",
   "execution_count": null,
   "metadata": {},
   "outputs": [],
   "source": [
    "np.abs(np.real((energy_exact - energy_fez_dd)) / np.real(energy_exact))"
   ]
  },
  {
   "cell_type": "code",
   "execution_count": null,
   "metadata": {},
   "outputs": [],
   "source": [
    "with open(\"all_counts_fez_dd_sep25.pkl\", \"wb\") as file:\n",
    "    pickle.dump(all_counts, file)"
   ]
  },
  {
   "cell_type": "markdown",
   "metadata": {},
   "source": [
    "## With readout error mitigation"
   ]
  },
  {
   "cell_type": "code",
   "execution_count": null,
   "metadata": {},
   "outputs": [],
   "source": [
    "from qiskit_experiments.library import LocalReadoutError\n",
    "from qiskit.result.distributions.quasi import QuasiDistribution \n",
    "\n",
    "from qiskit_experiments.library.characterization.analysis import LocalReadoutErrorAnalysis"
   ]
  },
  {
   "cell_type": "code",
   "execution_count": null,
   "metadata": {},
   "outputs": [],
   "source": [
    "experiment = LocalReadoutError(qubits)\n",
    "result = experiment.run(computer)"
   ]
  },
  {
   "cell_type": "code",
   "execution_count": null,
   "metadata": {},
   "outputs": [],
   "source": [
    "mitigator = result.analysis_results(\"Local Readout Mitigator\", dataframe=True).iloc[0].value"
   ]
  },
  {
   "cell_type": "code",
   "execution_count": null,
   "metadata": {},
   "outputs": [],
   "source": [
    "correction_matrices = []\n",
    "for i in range(len(qubits)):\n",
    "    correction_matrices.append(mitigator.mitigation_matrix(qubits[i]))\n",
    "\n",
    "counts_per_bit = []\n",
    "for i in range(len(qubits)):\n",
    "    counts_per_bit.append(get_counts_for(all_counts[0],i))\n",
    "\n",
    "margdist_per_bit = []\n",
    "for i in range(len(qubits)):\n",
    "    margdist_per_bit.append(np.array([counts_per_bit[i].get(\"0\"), counts_per_bit[i].get(\"1\")]) / nshots)\n",
    "\n",
    "corrected_margdist_per_bit = []\n",
    "for i in range(len(qubits)):\n",
    "    corrected_margdist_per_bit.append(mitigator.mitigation_matrix(qubits[i]) @ margdist_per_bit[i])\n",
    "\n",
    "new_bits = []\n",
    "for i in range(len(qubits)):\n",
    "    new_bits.append(np.random.choice([0, 1], size=nshots, p=corrected_margdist_per_bit[i]))\n",
    "\n",
    "corrected_bitstrings = [\"\".join(str(new_bits[i][j]) for i in range(len(qubits))) for j in range(nshots)]\n",
    "corrected_counts = Counter(corrected_bitstrings)"
   ]
  },
  {
   "cell_type": "code",
   "execution_count": null,
   "metadata": {},
   "outputs": [],
   "source": [
    "def apply_rem(\n",
    "    counts: dict[str, int], \n",
    "    mitigator: \"qiskit_experiments.LocalReadoutMitigator\",\n",
    "    *qubits) -> dict[str: int]:\n",
    "    counts = get_counts_for(counts, *qubits)\n",
    "    vec = np.zeros(2 ** len(qubits), dtype=float)\n",
    "    for bitstring, count in counts.items():\n",
    "        vec[int(bitstring, 2)] = count\n",
    "    vec = vec / nshots\n",
    "    assert np.allclose(vec.sum(), 1.0)\n",
    "\n",
    "    mitigated_probs_quasi = mitigator.mitigation_matrix(qubits=qubits) @ vec\n",
    "    mitigated_probs_quasi = QuasiDistribution({i: v for i, v in enumerate(mitigated_probs_quasi)})\n",
    "    mitigated_counts = {\n",
    "        bitstring: int(nshots * prob) for bitstring, prob in mitigated_probs_quasi.nearest_probability_distribution().binary_probabilities().items()\n",
    "    }\n",
    "    return mitigated_counts"
   ]
  },
  {
   "cell_type": "code",
   "execution_count": null,
   "metadata": {},
   "outputs": [],
   "source": [
    "all_counts_rem = [apply_rem(counts, mitigator, qubit1, qubit2) for counts in all_counts]"
   ]
  },
  {
   "cell_type": "code",
   "execution_count": null,
   "metadata": {},
   "outputs": [],
   "source": [
    "exp_zz_rem = sum(\n",
    "    count * (-1) ** sum(map(int, bitstring)) for bitstring, count in all_counts_rem[0].items()\n",
    ") / nshots\n",
    "exp_zz_rem"
   ]
  },
  {
   "cell_type": "code",
   "execution_count": null,
   "metadata": {},
   "outputs": [],
   "source": [
    "all_counts_dd_rem = [apply_rem(counts, mitigator, qubit1, qubit2) for counts in all_counts_dd]"
   ]
  },
  {
   "cell_type": "code",
   "execution_count": null,
   "metadata": {},
   "outputs": [],
   "source": [
    "exp_zz_dd_rem = sum(\n",
    "    count * (-1) ** sum(map(int, bitstring)) for bitstring, count in all_counts_dd_rem[0].items()\n",
    ") / nshots\n",
    "exp_zz_dd_rem"
   ]
  },
  {
   "cell_type": "markdown",
   "metadata": {},
   "source": [
    "## With ZNE"
   ]
  },
  {
   "cell_type": "code",
   "execution_count": null,
   "metadata": {},
   "outputs": [],
   "source": [
    "from mitiq import zne"
   ]
  },
  {
   "cell_type": "code",
   "execution_count": null,
   "metadata": {},
   "outputs": [],
   "source": [
    "qasm2_circuit = qasm2.dumps(compiled)\n",
    "\n",
    "compiled_cirq = circuit_from_qasm(qasm2_circuit.replace(\"qregless\", \"q\"))"
   ]
  },
  {
   "cell_type": "code",
   "execution_count": null,
   "metadata": {},
   "outputs": [],
   "source": [
    "scale_factors = [1, 3, 5]"
   ]
  },
  {
   "cell_type": "code",
   "execution_count": null,
   "metadata": {},
   "outputs": [],
   "source": [
    "scaled_circuits_cirq = [zne.scaling.fold_global(compiled_cirq, scale_factor) for scale_factor in scale_factors]"
   ]
  },
  {
   "cell_type": "code",
   "execution_count": null,
   "metadata": {},
   "outputs": [],
   "source": [
    "scaled_circuits = [to_qiskit(circuit) for circuit in scaled_circuits_cirq]\n",
    "scaled_circuits = qiskit.transpile(\n",
    "    scaled_circuits,\n",
    "    backend=computer,\n",
    "    initial_layout=qubits,\n",
    "    optimization_level=0,\n",
    ")"
   ]
  },
  {
   "cell_type": "code",
   "execution_count": null,
   "metadata": {},
   "outputs": [],
   "source": [
    "to_run_scaled = [get_measured_circuit(scaled_circuit) for scaled_circuit in scaled_circuits]"
   ]
  },
  {
   "cell_type": "code",
   "execution_count": null,
   "metadata": {},
   "outputs": [],
   "source": [
    "job_zne = sampler.run(to_run_scaled, shots=nshots)\n",
    "# job_zne = service.job(\"d1vvtd1mr05s73a71lbg\")"
   ]
  },
  {
   "cell_type": "code",
   "execution_count": null,
   "metadata": {},
   "outputs": [],
   "source": [
    "all_counts_zne = [result.data.measure.get_counts() for result in job_zne.result()]"
   ]
  },
  {
   "cell_type": "code",
   "execution_count": null,
   "metadata": {},
   "outputs": [],
   "source": [
    "counts_zne = [get_counts_for(c, qubit1, qubit2) for c in all_counts_zne]\n",
    "counts_zne"
   ]
  },
  {
   "cell_type": "code",
   "execution_count": null,
   "metadata": {},
   "outputs": [],
   "source": [
    "exp_zz_vals = [\n",
    "    sum(\n",
    "        count * (-1) ** sum(map(int, bitstring)) for bitstring, count in counts.items()\n",
    "    ) / nshots\n",
    "    for counts in counts_zne\n",
    "]\n",
    "exp_zz_vals"
   ]
  },
  {
   "cell_type": "code",
   "execution_count": null,
   "metadata": {},
   "outputs": [],
   "source": [
    "plt.plot(scale_factors, exp_zz_vals, \"--o\", ms=10, mec=\"black\", alpha=0.75)\n",
    "plt.xlabel(r\"Scale factor $\\lambda$\")\n",
    "plt.ylabel(rf\"$\\langle ZZ \\rangle (\\lambda) $\");"
   ]
  },
  {
   "cell_type": "code",
   "execution_count": null,
   "metadata": {},
   "outputs": [],
   "source": [
    "exp_zz_zne = zne.inference.PolyFactory.extrapolate(\n",
    "    scale_factors,\n",
    "    exp_zz_vals,\n",
    "    order=2,\n",
    ")\n",
    "exp_zz_zne"
   ]
  },
  {
   "cell_type": "markdown",
   "metadata": {},
   "source": [
    "## ZNE + REM"
   ]
  },
  {
   "cell_type": "code",
   "execution_count": null,
   "metadata": {},
   "outputs": [],
   "source": [
    "counts_zne_rem = [apply_rem(counts, mitigator, qubit1, qubit2) for counts in all_counts_zne]"
   ]
  },
  {
   "cell_type": "code",
   "execution_count": null,
   "metadata": {},
   "outputs": [],
   "source": [
    "exp_zz_vals_zne_rem = [\n",
    "    sum(\n",
    "        count * (-1) ** sum(map(int, bitstring)) for bitstring, count in counts.items()\n",
    "    ) / nshots\n",
    "    for counts in counts_zne_rem\n",
    "]\n",
    "exp_zz_vals_zne_rem"
   ]
  },
  {
   "cell_type": "code",
   "execution_count": null,
   "metadata": {},
   "outputs": [],
   "source": [
    "plt.plot(scale_factors, exp_zz_vals, \"--o\", ms=10, mec=\"black\", alpha=0.75)\n",
    "plt.xlabel(r\"Scale factor $\\lambda$\")\n",
    "plt.ylabel(rf\"$\\langle ZZ \\rangle (\\lambda) $\");"
   ]
  },
  {
   "cell_type": "code",
   "execution_count": null,
   "metadata": {},
   "outputs": [],
   "source": [
    "exp_zz_zne_rem = zne.inference.PolyFactory.extrapolate(\n",
    "    scale_factors,\n",
    "    exp_zz_vals_zne_rem,\n",
    "    order=2,\n",
    ")\n",
    "exp_zz_zne_rem"
   ]
  },
  {
   "cell_type": "markdown",
   "metadata": {},
   "source": [
    "## With decoherence renormalization"
   ]
  },
  {
   "cell_type": "code",
   "execution_count": null,
   "metadata": {},
   "outputs": [],
   "source": [
    "from typing import List, Optional\n",
    "\n",
    "\n",
    "def get_echo_circuit(\n",
    "    computer: qiskit_ibm_runtime.IBMBackend,\n",
    "    qubits: List[int],\n",
    "    depth: int,\n",
    "    seed: Optional[int] = None,\n",
    ") -> qiskit.QuantumCircuit:\n",
    "    \"\"\"Return a (Loschmidt) echo circuit.\n",
    "\n",
    "    The circuit is built by applying random single-qubit rotations (angles set by `seed`)\n",
    "    and layers of two-qubit gates which can be implemented on the `computer` to create a \n",
    "    unitary U. Then, the inverse unitary U^dag is applied. \n",
    "\n",
    "    Args:\n",
    "        computer: Determines the implementable gates (unitaries and couplings) for the echo circuit.\n",
    "        qubits: A subset of qubits on the computer to implement the echo on.\n",
    "        depth: The number of layers of single-qubit rotations/two-qubit gates in U.\n",
    "        seed: Determines the angle of rotations for random single-qubit rotations in each layer.\n",
    "    \"\"\"\n",
    "    # Get a random state (determines the angles in single-qubit rotations).\n",
    "    rng = np.random.RandomState(seed)\n",
    "    \n",
    "    # Get the subgraph.\n",
    "    subgraph_edges = []\n",
    "    \n",
    "    for edge in computer.coupling_map.get_edges():\n",
    "        if edge[0] in qubits and edge[1] in qubits:\n",
    "            subgraph_edges.append(edge)\n",
    "    \n",
    "    graph = nx.Graph()\n",
    "    graph.add_edges_from(subgraph_edges)\n",
    "    \n",
    "    # Get the two-qubit gate from the device. TODO: Handle cases where the two-qubit gate is neither ECR nor CNOT.\n",
    "    two_qubit_gate = qiskit.circuit.library.ECRGate() if \"ecr\" in computer.configuration().basis_gates else qiskit.circuit.library.CZGate()\n",
    "    \n",
    "    # Group edges into sets in which two-qubit gates can be performed in parallel.\n",
    "    edge_sets = [set()]\n",
    "    \n",
    "    for edge_index, edge in enumerate(graph.edges):\n",
    "        for i, edge_set in enumerate(edge_sets):\n",
    "            edge_added_to_a_set = False\n",
    "            node_list = [e[0] for e in edge_set] + [e[1] for e in edge_set]\n",
    "            if edge[0] in node_list or edge[1] in node_list:\n",
    "                continue\n",
    "            else:\n",
    "                edge_sets[i].add(edge)\n",
    "                edge_added_to_a_set = True\n",
    "                break\n",
    "    \n",
    "        if not edge_added_to_a_set:\n",
    "            edge_sets.append(set())\n",
    "            edge_sets[-1].add(edge)\n",
    "\n",
    "    # print(\"Found edge sets:\")\n",
    "    # print(edge_sets)\n",
    "    \n",
    "    # Get a circuit with the qubits on the computer.\n",
    "    circuit = qiskit.QuantumCircuit()\n",
    "    circuit = qiskit.transpile(circuit, backend=computer)\n",
    "    \n",
    "    rng = np.random.RandomState(seed=seed)\n",
    "    \n",
    "    for _ in range(depth):\n",
    "        for edge_set in edge_sets:\n",
    "            # Do a layer of single-qubit rotations.\n",
    "            for qubit in graph.nodes():\n",
    "                circuit.append(qiskit.circuit.library.XGate(), qargs=[circuit.qubits[qubit]])\n",
    "                circuit.append(qiskit.circuit.library.RZGate(2 * np.pi * rng.normal()), qargs=[circuit.qubits[qubit]])\n",
    "                circuit.append(qiskit.circuit.library.XGate(), qargs=[circuit.qubits[qubit]])\n",
    "    \n",
    "            # Do a layer of two-qubit gates.\n",
    "            for edge in edge_set:\n",
    "                circuit.append(two_qubit_gate, qargs=[circuit.qubits[edge[0]], circuit.qubits[edge[1]]])\n",
    "    \n",
    "            # circuit.barrier()\n",
    "    \n",
    "    # Add the echo.\n",
    "    circuit = circuit.compose(circuit.inverse())\n",
    "    \n",
    "    # Measure active qubits.\n",
    "    if depth == 0:\n",
    "        creg = qiskit.ClassicalRegister(len(graph.nodes()), name=\"meas\")  # Note: This is hardcoded as `\"meas\"` to match the default name when `qiskit.QuantumCircuit.measure_active` is used.\n",
    "        circuit.add_register(creg)\n",
    "        for i, qubit in enumerate(sorted(graph.nodes())):\n",
    "            circuit.measure(qubit, creg[i])\n",
    "    else:\n",
    "        circuit.measure_active()\n",
    "    \n",
    "    return circuit"
   ]
  },
  {
   "cell_type": "code",
   "execution_count": null,
   "metadata": {},
   "outputs": [],
   "source": [
    "echo = get_echo_circuit(computer, qubits, depth=4, seed=1)"
   ]
  },
  {
   "cell_type": "code",
   "execution_count": null,
   "metadata": {},
   "outputs": [],
   "source": [
    "echo.count_ops()"
   ]
  },
  {
   "cell_type": "code",
   "execution_count": null,
   "metadata": {},
   "outputs": [],
   "source": [
    "job_echo = sampler.run([echo], shots=nshots)"
   ]
  },
  {
   "cell_type": "code",
   "execution_count": null,
   "metadata": {},
   "outputs": [],
   "source": [
    "all_counts_echo = [result.data.measure.get_counts() for result in job_echo.result()]"
   ]
  },
  {
   "cell_type": "code",
   "execution_count": null,
   "metadata": {},
   "outputs": [],
   "source": [
    "renormalization = 1.0 - all_counts_echo[0].get(\"0\" * len(qubits), 0) / nshots\n",
    "renormalization"
   ]
  },
  {
   "cell_type": "code",
   "execution_count": null,
   "metadata": {},
   "outputs": [],
   "source": [
    "exp_zz_drn = exp_zz / renormalization\n",
    "exp_zz_drn"
   ]
  },
  {
   "cell_type": "markdown",
   "metadata": {},
   "source": [
    "## Plot results"
   ]
  },
  {
   "cell_type": "code",
   "execution_count": null,
   "metadata": {},
   "outputs": [],
   "source": [
    "labels_vals = {\n",
    "    \"Ideal\": exp_zz_ideal,\n",
    "    \"Hardware\": exp_zz,\n",
    "    \"DD\": exp_zz_dd,\n",
    "    \"REM\": exp_zz_rem,\n",
    "    \"DD+REM\": exp_zz_dd_rem,\n",
    "    \"ZNE\": exp_zz_zne,\n",
    "    \"ZNE+REM\": exp_zz_zne_rem,\n",
    "}\n",
    "colors = [\"tab:green\", \"tab:red\", \"tab:grey\", \"tab:orange\", \"tab:pink\", \"tab:blue\", \"salmon\"]\n",
    "vals = list(labels_vals.values())\n",
    "labels = list(labels_vals.keys())\n",
    "\n",
    "plt.bar(range(len(vals)), vals, tick_label=labels, color=colors, edgecolor=\"black\", alpha=0.75)\n",
    "plt.ylabel(r\"$\\langle ZZ \\rangle$\");\n",
    "plt.savefig(\"hchain_qem_v4.pdf\")"
   ]
  },
  {
   "cell_type": "markdown",
   "metadata": {},
   "source": []
  }
 ],
 "metadata": {
  "kernelspec": {
   "display_name": "envwateribm",
   "language": "python",
   "name": "envwateribm"
  },
  "language_info": {
   "codemirror_mode": {
    "name": "ipython",
    "version": 3
   },
   "file_extension": ".py",
   "mimetype": "text/x-python",
   "name": "python",
   "nbconvert_exporter": "python",
   "pygments_lexer": "ipython3",
   "version": "3.10.17"
  }
 },
 "nbformat": 4,
 "nbformat_minor": 4
}
