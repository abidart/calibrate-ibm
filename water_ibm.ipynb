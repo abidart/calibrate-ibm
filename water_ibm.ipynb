{
 "cells": [
  {
   "cell_type": "markdown",
   "metadata": {},
   "source": [
    "# Computing the energy of water on IBM"
   ]
  },
  {
   "cell_type": "markdown",
   "metadata": {},
   "source": [
    "## Set experiment parameters"
   ]
  },
  {
   "cell_type": "code",
   "execution_count": null,
   "metadata": {},
   "outputs": [],
   "source": [
    "ibm_computer: str = \"ibm_fez\"\n",
    "qubits = [153, 152, 151, 150, 149, 148, 147, 146, 145, 144, 143, 136, 123, 124]\n",
    "nshots: int = 50_000\n",
    "\n",
    "len(qubits)"
   ]
  },
  {
   "cell_type": "markdown",
   "metadata": {},
   "source": [
    "## Setup"
   ]
  },
  {
   "cell_type": "code",
   "execution_count": null,
   "metadata": {},
   "outputs": [],
   "source": [
    "from collections import Counter\n",
    "from typing import Tuple\n",
    "\n",
    "import matplotlib.pyplot as plt; plt.rcParams.update({\"font.family\": \"serif\"})\n",
    "import networkx as nx\n",
    "import numpy as np\n",
    "import pickle\n",
    "\n",
    "from cirq.contrib.qasm_import import circuit_from_qasm\n",
    "import openfermion as of\n",
    "\n",
    "import qiskit\n",
    "from qiskit import qasm2, qasm3\n",
    "from qiskit_aer import AerSimulator\n",
    "import qiskit_ibm_runtime\n",
    "from qiskit_ibm_runtime import SamplerV2 as Sampler\n",
    "\n",
    "# from mitiq.interface.mitiq_qiskit import to_qiskit"
   ]
  },
  {
   "cell_type": "markdown",
   "metadata": {},
   "source": [
    "## Read in the Hamiltonian and ansatz circuit"
   ]
  },
  {
   "cell_type": "code",
   "execution_count": null,
   "metadata": {},
   "outputs": [],
   "source": [
    "hamiltonian = of.jordan_wigner(\n",
    "        of.get_fermion_operator(\n",
    "    of.chem.MolecularData(filename=\"monomer_eqb.hdf5\").get_molecular_hamiltonian()\n",
    "    )\n",
    ")\n",
    "nqubits = of.utils.count_qubits(hamiltonian)\n",
    "nterms  = len(hamiltonian.terms)\n",
    "\n",
    "print(f\"Hamiltonian acts on {nqubits} qubit(s) and has {nterms} term(s).\")"
   ]
  },
  {
   "cell_type": "code",
   "execution_count": null,
   "metadata": {},
   "outputs": [],
   "source": [
    "water_eqb_circuits = pickle.load(open(\"./water_eqb_circuits\", \"rb\"))\n",
    "\n",
    "for error, circuit, layout in water_eqb_circuits:\n",
    "    print(\"Error =\", error)\n",
    "    print(\"Circuit stats:\", circuit.count_ops())"
   ]
  },
  {
   "cell_type": "code",
   "execution_count": null,
   "metadata": {},
   "outputs": [],
   "source": [
    "error, circuit, layout = water_eqb_circuits[5]\n",
    "circuit.draw(fold=-1, idle_wires=False)"
   ]
  },
  {
   "cell_type": "markdown",
   "metadata": {},
   "source": [
    "## Preprocessing"
   ]
  },
  {
   "cell_type": "markdown",
   "metadata": {},
   "source": [
    "### Compile the circuit"
   ]
  },
  {
   "cell_type": "code",
   "execution_count": null,
   "metadata": {},
   "outputs": [],
   "source": [
    "base = circuit.copy()"
   ]
  },
  {
   "cell_type": "code",
   "execution_count": null,
   "metadata": {},
   "outputs": [],
   "source": [
    "base = qiskit.transpiler.passes.RemoveBarriers()(base)"
   ]
  },
  {
   "cell_type": "code",
   "execution_count": null,
   "metadata": {},
   "outputs": [],
   "source": [
    "base = qiskit.transpile(\n",
    "    base,\n",
    "    optimization_level=3,\n",
    "    # initial_layout=qubits,\n",
    "    seed_transpiler=1,\n",
    ")\n",
    "print(base.count_ops())\n",
    "base.draw(fold=-1, idle_wires=False)"
   ]
  },
  {
   "cell_type": "markdown",
   "metadata": {},
   "source": [
    "### Compress the Hamiltonian"
   ]
  },
  {
   "cell_type": "code",
   "execution_count": null,
   "metadata": {},
   "outputs": [],
   "source": [
    "# hamiltonian.compress(0.001)"
   ]
  },
  {
   "cell_type": "markdown",
   "metadata": {},
   "source": [
    "### Generate measurement circuits"
   ]
  },
  {
   "cell_type": "markdown",
   "metadata": {},
   "source": [
    "#### Try it with Qiskit"
   ]
  },
  {
   "cell_type": "code",
   "execution_count": null,
   "metadata": {},
   "outputs": [],
   "source": [
    "from qiskit.circuit.library import real_amplitudes\n",
    "from qiskit.quantum_info import SparsePauliOp\n",
    "from qiskit.transpiler.preset_passmanagers import generate_preset_pass_manager\n",
    "from qiskit_ibm_runtime import QiskitRuntimeService, EstimatorV2 as Estimator\n",
    " \n",
    "backend = computer  # qiskit_ibm_runtime.fake_provider.FakeFez()"
   ]
  },
  {
   "cell_type": "code",
   "execution_count": null,
   "metadata": {},
   "outputs": [],
   "source": [
    "psi = qiskit.QuantumCircuit(2)\n",
    "psi.h(0)\n",
    "psi.cx(0, 1)\n",
    "# theta = [0, 1, 1, 2, 3, 5]\n",
    "psi.draw()"
   ]
  },
  {
   "cell_type": "code",
   "execution_count": null,
   "metadata": {},
   "outputs": [],
   "source": [
    "hamiltonian = SparsePauliOp.from_list([(\"IZ\", 0.5), (\"IX\", -0.5)])\n",
    "hamiltonian"
   ]
  },
  {
   "cell_type": "code",
   "execution_count": null,
   "metadata": {},
   "outputs": [],
   "source": [
    "pm = generate_preset_pass_manager(backend=backend, optimization_level=1)\n",
    "isa_psi = pm.run(psi)\n",
    "isa_observables = hamiltonian.apply_layout(isa_psi.layout)\n",
    " \n",
    "estimator = Estimator(mode=backend)"
   ]
  },
  {
   "cell_type": "code",
   "execution_count": null,
   "metadata": {},
   "outputs": [],
   "source": [
    "isa_psi.draw()"
   ]
  },
  {
   "cell_type": "code",
   "execution_count": null,
   "metadata": {},
   "outputs": [],
   "source": [
    "isa_observables"
   ]
  },
  {
   "cell_type": "code",
   "execution_count": null,
   "metadata": {},
   "outputs": [],
   "source": [
    "# calculate [ <psi(theta1)|hamiltonian|psi(theta)> ]\n",
    "job = estimator.run([(isa_psi, isa_observables)])\n",
    "pub_result = job.result()[0]\n",
    "print(f\"Expectation values: {pub_result.data.evs}\")"
   ]
  },
  {
   "cell_type": "code",
   "execution_count": null,
   "metadata": {},
   "outputs": [],
   "source": [
    "job.result()"
   ]
  },
  {
   "cell_type": "code",
   "execution_count": null,
   "metadata": {},
   "outputs": [],
   "source": [
    "from qiskit.primitives.base import BaseEstimatorV2"
   ]
  },
  {
   "cell_type": "code",
   "execution_count": null,
   "metadata": {},
   "outputs": [],
   "source": [
    "from qiskit.primitives.containers.estimator_pub import EstimatorPub, ObservablesArray, ObservablesArrayLike"
   ]
  },
  {
   "cell_type": "code",
   "execution_count": null,
   "metadata": {},
   "outputs": [],
   "source": []
  },
  {
   "cell_type": "code",
   "execution_count": null,
   "metadata": {},
   "outputs": [],
   "source": [
    "wtf = EstimatorPub(psi, ObservablesArray(hamiltonian, num_qubits=2))"
   ]
  },
  {
   "cell_type": "code",
   "execution_count": null,
   "metadata": {},
   "outputs": [],
   "source": [
    "wtf.circuit"
   ]
  },
  {
   "cell_type": "code",
   "execution_count": null,
   "metadata": {},
   "outputs": [],
   "source": [
    "job.result()[0]"
   ]
  },
  {
   "cell_type": "markdown",
   "metadata": {},
   "source": [
    "#### Try it with `kcommute`"
   ]
  },
  {
   "cell_type": "code",
   "execution_count": null,
   "metadata": {},
   "outputs": [],
   "source": [
    "import kcommute"
   ]
  },
  {
   "cell_type": "code",
   "execution_count": null,
   "metadata": {},
   "outputs": [],
   "source": [
    "hamiltonian_cirq = of.qubit_operator_to_pauli_sum(hamiltonian)"
   ]
  },
  {
   "cell_type": "code",
   "execution_count": null,
   "metadata": {},
   "outputs": [],
   "source": [
    "groups = kcommute.get_si_sets(hamiltonian, kcommute.compute_blocks(hamiltonian_cirq.qubits, k=nqubits))"
   ]
  },
  {
   "cell_type": "code",
   "execution_count": null,
   "metadata": {},
   "outputs": [],
   "source": [
    "groups_cirq = [of.qubit_operator_to_pauli_sum(sum(group)) for group in groups]"
   ]
  },
  {
   "cell_type": "code",
   "execution_count": null,
   "metadata": {},
   "outputs": [],
   "source": [
    "plt.bar(range(len(groups)), [len(group) for group in groups])\n",
    "plt.xlabel(\"Group number\")\n",
    "plt.ylabel(\"Terms in group\");"
   ]
  },
  {
   "cell_type": "markdown",
   "metadata": {},
   "source": [
    "##### Ethan / Ben"
   ]
  },
  {
   "cell_type": "code",
   "execution_count": null,
   "metadata": {},
   "outputs": [],
   "source": [
    "from typing import List, Tuple\n",
    "from itertools import product\n",
    "from functools import reduce\n",
    "import numpy as np\n",
    "import cirq\n",
    "\n",
    "from qiskit.synthesis import stabilizer\n",
    "\n",
    "\n",
    "# Hacky substitute for `from mitiq import PauliString` -- only used for conversion to Cirq.\n",
    "def PauliString(p):\n",
    "    _string_to_gate_map = {\"I\": cirq.I, \"X\": cirq.X, \"Y\": cirq.Y, \"Z\": cirq.Z}\n",
    "    \n",
    "    return cirq.PauliString(\n",
    "            coeff,\n",
    "            (\n",
    "                _string_to_gate_map[s].on(cirq.LineQubit(i))\n",
    "                for (i, s) in enumerate(spec)\n",
    "            ),\n",
    "        )\n",
    "\n",
    "def group_commutes(stabilizer_matrix: np.ndarray) -> bool:\n",
    "    \"\"\"Test if a group commutes.\"\"\"\n",
    "\n",
    "    nq = stabilizer_matrix.shape[0] // 2\n",
    "    j = np.zeros((2 * nq, 2 * nq), dtype=bool)\n",
    "    for i in range(nq):\n",
    "        j[i, i+nq] = True\n",
    "        j[i+nq, i] = True\n",
    "    ip = np.mod(stabilizer_matrix.T @ j @ stabilizer_matrix, 2).astype(bool)\n",
    "    return np.all(np.invert(ip))\n",
    "\n",
    "\n",
    "def get_stabilizer_matrix_from_paulis(stabilizers, qubits):\n",
    "    numq = len(qubits)\n",
    "    nump = len(stabilizers)\n",
    "    stabilizer_matrix = np.zeros((2*numq, nump))\n",
    "\n",
    "    cirq.Z._name\n",
    "\n",
    "    for i, paulistring in enumerate(stabilizers):\n",
    "        for key, value in paulistring.items():\n",
    "            if value._name == \"X\":\n",
    "                stabilizer_matrix[int(key) + numq, i] = 1\n",
    "            elif value._name == \"Y\":\n",
    "                stabilizer_matrix[int(key), i] = 1\n",
    "                stabilizer_matrix[int(key) + numq, i] = 1\n",
    "            elif value._name == \"Z\":\n",
    "                stabilizer_matrix[int(key), i] = 1\n",
    "\n",
    "    return stabilizer_matrix\n",
    "\n",
    "\n",
    "def get_stabilizer_matrix_signs(stabilizer_matrix):\n",
    "    \"\"\"If an input string contains Y, then we represent it by\n",
    "    XZ = -Y. This function returns (-1)^k for each stabilizer,\n",
    "    where k is the number of Y's in the original string.\n",
    "    \n",
    "    Arguments:\n",
    "    stabilizer-matrix - a (2 numq) * nump matrix of the tableau.\n",
    "    \n",
    "    Returns:\n",
    "    signs - List of booleans, where False means the sign is +1, and True\n",
    "    means the sign is -1, i.e. we do (-1)^b = (-1)^(k mod 2)\"\"\"\n",
    "\n",
    "    numq = len(stabilizer_matrix) // 2\n",
    "    nump = len(stabilizer_matrix[0])\n",
    "    \n",
    "    signs: List[bool] = []\n",
    "    for i in range(nump):\n",
    "        p = stabilizer_matrix[:, i]\n",
    "        zs = p[:numq]\n",
    "        xs = p[numq:]\n",
    "        k = 0 # Number of Y's in this string.\n",
    "        for z, x in zip(zs, xs):\n",
    "            if z == 1.0 and x == 1.0:\n",
    "                k += 1\n",
    "        signs.append(k % 2 != 0)\n",
    "    return signs\n",
    "\n",
    "\n",
    "def get_paulis_from_stabilizer_matrix(stabilizer_matrix):\n",
    "    paulis = []\n",
    "    nump = len(stabilizer_matrix[0])\n",
    "    numq = len(stabilizer_matrix) // 2\n",
    "    for j in range(nump):\n",
    "        p = \"\"\n",
    "        for i in range(numq):\n",
    "            if stabilizer_matrix[i,j] == stabilizer_matrix[i + numq,j] == 1:\n",
    "                p += \"Y\"\n",
    "            elif stabilizer_matrix[i,j] == 1:\n",
    "                p += \"Z\"\n",
    "            elif stabilizer_matrix[i+numq,j] == 1:\n",
    "                p += \"X\"\n",
    "            else:\n",
    "                p += \"I\"\n",
    "        paulis.append(PauliString(p)._pauli)\n",
    "    return paulis\n",
    "\n",
    "\n",
    "def get_linearly_independent_set(stabilizer_matrix: np.ndarray) -> np.ndarray:\n",
    "    \"\"\"Use the Gaussian elimination to get the linearly-independent set of vectors.\n",
    "    \n",
    "    Returns\n",
    "    independent_columns - Matrix with the linearly independent columns.\"\"\"\n",
    "\n",
    "    # Convert to bool for mod 2 arithmetic.\n",
    "    bool_sm = stabilizer_matrix.astype(bool)\n",
    "    reduced_matrix = binary_gaussian_elimination(bool_sm)\n",
    "    # print(\"reduced stabilizer matrix=\\n\", reduced_matrix)\n",
    "    # Find the pivot columns.\n",
    "    next_pivot = 0 # Row of next pivot\n",
    "    pivot_columns: List[int] = []\n",
    "    for j in range(reduced_matrix.shape[1]):\n",
    "        if next_pivot >= reduced_matrix.shape[0]:\n",
    "            break\n",
    "        if reduced_matrix[next_pivot, j]:\n",
    "            pivot_columns.append(j)\n",
    "            next_pivot += 1\n",
    "    # print(\"pivot columns:\\n\", pivot_columns)\n",
    "    independent_columns = stabilizer_matrix[:, pivot_columns]\n",
    "    assert independent_columns.shape[0] == stabilizer_matrix.shape[0], \\\n",
    "        f\"{independent_columns.shape[0]} != {stabilizer_matrix.shape[0]}\"\n",
    "    assert independent_columns.shape[1] <= stabilizer_matrix.shape[1], \\\n",
    "        f\"{independent_columns.shape[1]} != {stabilizer_matrix.shape[1]}\"\n",
    "    return independent_columns\n",
    "\n",
    "\n",
    "def binary_gaussian_elimination(matrix: np.ndarray) -> np.ndarray:\n",
    "    \"\"\"Do Gaussian elimination on the matrix to get it into RREF.\"\"\"\n",
    "\n",
    "    do_print = False\n",
    "\n",
    "    next_row = 0 # Row that will contain the next pivot.\n",
    "    mat = matrix.copy()\n",
    "    if do_print:\n",
    "        print(\"Starting:\\n\", mat)\n",
    "    for j in range(mat.shape[1]):\n",
    "        if do_print:\n",
    "            print(f\"On column {j}.\")\n",
    "        # If a row i >= next_row exists s.t. mat[i, j] == True,\n",
    "        # Swap rows i and next_row.\n",
    "        found = False\n",
    "        for i in range(next_row, mat.shape[0]):\n",
    "            if mat[i, j]:\n",
    "                if do_print:\n",
    "                    print(f\"Found True value at row {i}.\")\n",
    "                found = True\n",
    "                if i != next_row:\n",
    "                    if do_print:\n",
    "                        print(f\"Swapping {i} <-> {next_row}.\")\n",
    "                    # Swap R_i <-> R_j\n",
    "                    temp = mat[next_row, :].copy()\n",
    "                    mat[next_row, :] = mat[i, :]\n",
    "                    mat[i, :] = temp\n",
    "                    if do_print:\n",
    "                        print(mat)\n",
    "                break\n",
    "            \n",
    "        if found:\n",
    "            if do_print:\n",
    "                print(f\"True at element {next_row}, {j}\")\n",
    "            for i in range(next_row+1, mat.shape[0]):\n",
    "                if mat[i, j]:\n",
    "                    if do_print:\n",
    "                        print(f\"XORing row {i} with row{j}.\")\n",
    "                    mat[i, :] ^= mat[next_row, :]\n",
    "                    if do_print:\n",
    "                        print(mat)\n",
    "            next_row += 1\n",
    "    if do_print:\n",
    "        print(\"Final reduced matrix\\n\", mat)\n",
    "    return mat\n",
    "\n",
    "\n",
    "def binary_matrix_rank(mat: np.ndarray) -> np.ndarray:\n",
    "    \"\"\"Get rank of binary matrix by doing Gaussian elmination, then count the\n",
    "    number of pivot columns.\n",
    "    Example:\n",
    "    For [[True, False, True], [True, True, False], [False, True, True]], we should get rank 2,\n",
    "    because [True True False] + [False True True] = [True False True]\"\"\"\n",
    "\n",
    "    mat_reduced = binary_gaussian_elimination(mat)\n",
    "    num_pivots = 0\n",
    "    next_pivot = 0 # Location of next pivot row.\n",
    "    for j in range(mat_reduced.shape[1]):\n",
    "        # First check that all element below [next_pivot, j] are False:\n",
    "        if next_pivot < mat_reduced.shape[0] - 1:\n",
    "            all_zero_below = np.all(np.invert(mat_reduced[(next_pivot+1):, j]))\n",
    "        else:\n",
    "            all_zero_below = True\n",
    "        if mat_reduced[next_pivot, j] and all_zero_below:\n",
    "            num_pivots += 1\n",
    "            next_pivot += 1\n",
    "    return num_pivots\n",
    "\n",
    "\n",
    "def assert_no_zero_column_in_matrix(matrix):\n",
    "    \"\"\"Assert that no column in the matrix is all zeros.\"\"\"\n",
    "\n",
    "    for j in range(matrix.shape[1]):\n",
    "        assert not np.all(matrix[:, j] == 0.0), \\\n",
    "            f\"Column {j} is all zeros.\"\n",
    "\n",
    "\n",
    "def get_measurement_circuit(stabilizer_matrix):\n",
    "    numq = len(stabilizer_matrix) // 2 # number of qubits\n",
    "    nump = len(stabilizer_matrix[0]) # number of paulis\n",
    "    z_matrix = stabilizer_matrix.copy()[:numq]\n",
    "    x_matrix = stabilizer_matrix.copy()[numq:]\n",
    "\n",
    "    assert_no_zero_column_in_matrix(stabilizer_matrix)\n",
    "\n",
    "    # if nump > 2 * numq:\n",
    "    #     raise ValueError(f\"nump = {nump} > 2 * numq = 2 * {numq}. Set might be linearly-dependent.\")\n",
    "\n",
    "    # if nump > numq:\n",
    "    #     raise ValueError(f\"nump = {nump} > numq = {numq}. More columns than qubits.\")\n",
    "    \n",
    "    # if nump < numq:\n",
    "    #     raise ValueError(\"nump = {nump} < numq = {numq}.\")\n",
    "\n",
    "    measurement_circuit = cirq.Circuit()\n",
    "    qreg = cirq.LineQubit.range(numq)\n",
    "\n",
    "    # print(\"Strating elimination.\")\n",
    "\n",
    "    # Find a combination of rows to make X matrix have rank nump\n",
    "    for row_combination in product(['X', 'Z'], repeat=numq):\n",
    "        candidate_matrix = np.array([\n",
    "            z_matrix[i] if c==\"Z\" else x_matrix[i] for i, c in enumerate(row_combination)\n",
    "        ])\n",
    "\n",
    "        # Apply Hadamards to swap X and Z rows to transform X matrix to have rank nump\n",
    "        # rank = np.linalg.matrix_rank(candidate_matrix)\n",
    "        rank = binary_matrix_rank(candidate_matrix.astype(bool))\n",
    "        # print(\"rank =\", rank)\n",
    "        if rank == nump:\n",
    "            for i, c in enumerate(row_combination):\n",
    "                if c == \"Z\":\n",
    "                    z_matrix[i] = x_matrix[i]\n",
    "                    measurement_circuit.append(cirq.H.on(qreg[i]))\n",
    "            x_matrix = candidate_matrix\n",
    "            break\n",
    "    \n",
    "    for j in range(min(nump, numq)):\n",
    "        if x_matrix[j,j] == 0:\n",
    "            # Find i > j s.t. x_matrix[i, j] = 1.0.\n",
    "            found = False\n",
    "            for i in range(j + 1, numq):\n",
    "                if x_matrix[i, j] != 0:\n",
    "                    found = True\n",
    "                    break\n",
    "            #i = j + 1\n",
    "            #while x_matrix[i,j] == 0:\n",
    "            #    i += 1\n",
    "\n",
    "            # If i was found, apply a SWAP i <-> j.\n",
    "            if found:\n",
    "                x_row = x_matrix[i].copy()\n",
    "                x_matrix[i] = x_matrix[j]\n",
    "                x_matrix[j] = x_row\n",
    "\n",
    "                z_row = z_matrix[i].copy()\n",
    "                z_matrix[i] = z_matrix[j]\n",
    "                z_matrix[j] = z_row\n",
    "\n",
    "                measurement_circuit.append(cirq.SWAP.on(qreg[j], qreg[i]))\n",
    "\n",
    "        for i in range(j + 1, numq):\n",
    "            if x_matrix[i,j] == 1:\n",
    "                x_matrix[i] = (x_matrix[i] + x_matrix[j]) % 2\n",
    "                z_matrix[j] = (z_matrix[j] + z_matrix[i]) % 2\n",
    "\n",
    "                measurement_circuit.append(cirq.CNOT.on(qreg[j], qreg[i]))\n",
    "\n",
    "    # print(\"Before CNOT gates:\")\n",
    "    # print(\"X=\\n\", x_matrix)\n",
    "    # print(\"Z=\\n\", z_matrix)\n",
    "    for j in range(nump-1, 0, -1):\n",
    "        for i in range(j):\n",
    "            if x_matrix[i, j] == 1:\n",
    "                x_matrix[i] = (x_matrix[i] + x_matrix[j]) % 2\n",
    "                z_matrix[j] = (z_matrix[j] + z_matrix[i]) % 2\n",
    "\n",
    "                measurement_circuit.append(cirq.CNOT.on(qreg[j], qreg[i]))\n",
    "\n",
    "    # print(\"Before S and CZ gates:\")\n",
    "    # print(\"X=\\n\", x_matrix)\n",
    "    # print(\"Z=\\n\", z_matrix)\n",
    "    for i in range(nump):\n",
    "        if z_matrix[i,i] == 1:\n",
    "            # z_matrix[i,i] = 0\n",
    "            for p in range(nump):\n",
    "                z_matrix[i, p] = (z_matrix[i, p] + x_matrix[i, p]) % 2\n",
    "            measurement_circuit.append(cirq.S.on(qreg[i]))\n",
    "        \n",
    "        for j in range(i):\n",
    "            if z_matrix[i,j] == 1:\n",
    "                # z_matrix[i,j] = 0\n",
    "                # z_matrix[j,i] = 0\n",
    "                for p in range(nump):\n",
    "                    z_matrix[i, p] = (z_matrix[i, p] + x_matrix[j, p]) % 2\n",
    "                    z_matrix[j, p] = (z_matrix[j, p] + x_matrix[i, p]) % 2\n",
    "                measurement_circuit.append(cirq.CZ.on(qreg[j], qreg[i]))\n",
    "\n",
    "    # print(\"Before final Hadamards:\")\n",
    "    # print(\"X=\\n\", x_matrix)\n",
    "    # print(\"Z=\\n\", z_matrix)\n",
    "    for i in range(nump):\n",
    "        row = x_matrix[i].copy()\n",
    "        x_matrix[i] = z_matrix[i]\n",
    "        z_matrix[i] = row\n",
    "\n",
    "        measurement_circuit.append(cirq.H.on(qreg[i]))\n",
    "\n",
    "    # print(\"After final Hadamards:\")\n",
    "    # print(\"X=\\n\", x_matrix)\n",
    "    # print(\"Z=\\n\", z_matrix)\n",
    "\n",
    "    # Check to see if any 1's are left over the in the X matrix.\n",
    "    # If X_ij == 1 and Z_ij == 1, \n",
    "    for i in range(x_matrix.shape[0]):\n",
    "        for j in range(x_matrix.shape[1]):\n",
    "            if x_matrix[i, j] != 0.:\n",
    "                print(f\"Non-zero value in X at ({i}, {j}).\")\n",
    "                if z_matrix[i, j] != 0.:\n",
    "                    print(\"Matching 1 in Z matrix.\")\n",
    "                else:\n",
    "                    print(\"No matching 1 in Z.\")\n",
    "\n",
    "    return measurement_circuit, np.concatenate((z_matrix, x_matrix))\n",
    "\n",
    "\n",
    "def get_measurement_circuit_tcc(stabilizer_matrix, distance):\n",
    "    numq = len(stabilizer_matrix) // 2 # number of qubits\n",
    "    nump = len(stabilizer_matrix[0]) # number of paulis\n",
    "    z_matrix = stabilizer_matrix.copy()[:numq]\n",
    "    x_matrix = stabilizer_matrix.copy()[numq:]\n",
    "\n",
    "    measurement_circuit = cirq.Circuit()\n",
    "    qreg = cirq.LineQubit.range(numq)\n",
    "\n",
    "    # Compute a combination of rows to make X matrix have rank (mod 2) nump\n",
    "    row_combination_pattern = \"\"\n",
    "    pi = 0\n",
    "    while len(row_combination_pattern) < numq:\n",
    "        row_combination_pattern = row_combination_pattern + \"XXXZXZ\" + \"XZXZXZ\"*pi\n",
    "        pi += 1\n",
    "    row_combination = row_combination_pattern[:numq-distance+2] + \"Z\"*(distance-2)\n",
    "    candidate_matrix = np.array([\n",
    "        z_matrix[i] if c==\"Z\" else x_matrix[i] for i, c in enumerate(row_combination)\n",
    "    ])\n",
    "\n",
    "    # Apply Hadamards to swap X and Z rows to transform X matrix to have rank nump\n",
    "    if binary_matrix_rank(candidate_matrix) == nump:\n",
    "        for i, c in enumerate(row_combination):\n",
    "            if c == \"Z\":\n",
    "                z_matrix[i] = x_matrix[i]\n",
    "                measurement_circuit.append(cirq.H.on(qreg[i]))\n",
    "        x_matrix = candidate_matrix\n",
    "    \n",
    "    for j in range(nump):\n",
    "        if x_matrix[j,j] == 0:\n",
    "            i = j + 1\n",
    "            while True:\n",
    "                if np.isclose(x_matrix[i,j], 0.0):\n",
    "                    i += 1\n",
    "                else:\n",
    "                    break\n",
    "\n",
    "            x_row = x_matrix[i].copy()\n",
    "            x_matrix[i] = x_matrix[j]\n",
    "            x_matrix[j] = x_row\n",
    "\n",
    "            z_row = z_matrix[i].copy()\n",
    "            z_matrix[i] = z_matrix[j]\n",
    "            z_matrix[j] = z_row\n",
    "\n",
    "            measurement_circuit.append(cirq.SWAP.on(qreg[j], qreg[i]))\n",
    "\n",
    "        for i in range(j + 1, numq):\n",
    "            if x_matrix[i,j] == 1:\n",
    "                x_matrix[i] = (x_matrix[i] + x_matrix[j]) % 2\n",
    "                z_matrix[j] = (z_matrix[j] + z_matrix[i]) % 2\n",
    "\n",
    "                measurement_circuit.append(cirq.CNOT.on(qreg[j], qreg[i]))\n",
    "\n",
    "    for j in range(nump-1, 0, -1):\n",
    "        for i in range(j):\n",
    "            if x_matrix[i, j] == 1:\n",
    "                x_matrix[i] = (x_matrix[i] + x_matrix[j]) % 2\n",
    "                z_matrix[j] = (z_matrix[j] + z_matrix[i]) % 2\n",
    "\n",
    "                measurement_circuit.append(cirq.CNOT.on(qreg[j], qreg[i]))\n",
    "\n",
    "    for i in range(nump):\n",
    "        if z_matrix[i,i] == 1:\n",
    "            z_matrix[i,i] = 0\n",
    "            measurement_circuit.append(cirq.S.on(qreg[i]))\n",
    "        \n",
    "        for j in range(i):\n",
    "            if z_matrix[i,j] == 1:\n",
    "                z_matrix[i,j] = 0\n",
    "                z_matrix[j,i] = 0\n",
    "                measurement_circuit.append(cirq.CZ.on(qreg[j], qreg[i]))\n",
    "\n",
    "    for i in range(nump):\n",
    "        row = x_matrix[i].copy()\n",
    "        x_matrix[i] = z_matrix[i]\n",
    "        z_matrix[i] = row\n",
    "\n",
    "        measurement_circuit.append(cirq.H.on(qreg[i]))\n",
    "    \n",
    "    return measurement_circuit, np.concatenate((z_matrix, x_matrix))\n",
    "\n",
    "\n",
    "def is_pauli_diagonal(pstring: cirq.PauliString) -> bool:\n",
    "    \"\"\"Tests if a given PauliString is diagonal.\"\"\"\n",
    "\n",
    "    for _, pauli in pstring.items():\n",
    "        if not (pauli == cirq.I or pauli == cirq.Z):\n",
    "            return False\n",
    "    return True\n",
    "\n",
    "\n",
    "def _check_x_bits_all_zero(stabilizer_matrix: np.ndarray):\n",
    "    \"\"\"Check that the lower half of the stabilizer matrix has all 0's.\"\"\"\n",
    "\n",
    "    numq = len(stabilizer_matrix) // 2\n",
    "    s_x = stabilizer_matrix[numq:]\n",
    "    if not np.all(np.invert(s_x.astype(bool))):\n",
    "        print(f\"WARNING S_x =\\n{s_x}\\nsize {s_x.shape} has ones in it.\\nS=\\n{stabilizer_matrix}\")\n",
    "\n",
    "\n",
    "def _assert_no_identity_column(stabilizer_matrix: np.ndarray):\n",
    "    \"\"\"Assert that there is no column that is all identity.\"\"\"\n",
    "\n",
    "    for j in range(stabilizer_matrix.shape[1]):\n",
    "        assert not np.invert(stabilizer_matrix[:, j].astype(bool)).all(), f\"{stabilizer_matrix[:, j]}\"\n",
    "\n",
    "\n",
    "def diagonalize_pauli_strings(\n",
    "    paulis: List[cirq.PauliString], qs: List[cirq.Qid]\n",
    ") -> Tuple[cirq.Circuit, List[cirq.PauliString]]:\n",
    "    \"\"\"Diagonalize a set of Pauli strings, returning the diagonalizing\n",
    "    circuit and the list of diagonalized strings.\"\"\"\n",
    "\n",
    "    stabilizer_matrix = get_stabilizer_matrix_from_paulis(paulis, qs)\n",
    "    # _assert_no_identity_column(stabilizer_matrix)\n",
    "    for j in range(stabilizer_matrix.shape[1]):\n",
    "        if np.all(np.invert(stabilizer_matrix[:, j].astype(bool))):\n",
    "            stabilizer_matrix = np.delete(stabilizer_matrix, j, 1)\n",
    "            break\n",
    "    assert group_commutes(stabilizer_matrix)\n",
    "    # if stabilizer_matrix.shape[1] > stabilizer_matrix.shape[0] // 2:\n",
    "    #     print(\"Using Gram-Schmidt.\")\n",
    "    #     print(stabilizer_matrix)\n",
    "    #     print(f\"Matrix has {stabilizer_matrix.shape[1]} columns.\")\n",
    "    #     reduced_stabilizer_matrix = get_linearly_independent_set(stabilizer_matrix)\n",
    "    #     print(f\"After, matrix has {reduced_stabilizer_matrix.shape[1]} columns.\")\n",
    "    #     print(reduced_stabilizer_matrix)\n",
    "    # else:\n",
    "    #     reduced_stabilizer_matrix = stabilizer_matrix.copy()\n",
    "    #     print(\"Not using Gram-Schmidt.\")\n",
    "    reduced_stabilizer_matrix = get_linearly_independent_set(stabilizer_matrix)\n",
    "    measurement_circuit, diag_stabilizer_matrix = get_measurement_circuit(reduced_stabilizer_matrix)\n",
    "    _check_x_bits_all_zero(diag_stabilizer_matrix)\n",
    "    conjugated_strings: List[cirq.PauliString] = []\n",
    "    for pstring in paulis:\n",
    "        conjugated_string = pstring.after(measurement_circuit)\n",
    "        assert is_pauli_diagonal(conjugated_string), \\\n",
    "            f\"Pauli string {conjugated_string} is not diagonal. Originally was {pstring}\"\n",
    "        conjugated_strings.append(conjugated_string)\n",
    "    return measurement_circuit, conjugated_strings"
   ]
  },
  {
   "cell_type": "code",
   "execution_count": null,
   "metadata": {},
   "outputs": [],
   "source": [
    "measurement_circuits = []\n",
    "conjugated_paulis = []\n",
    "for i, group in enumerate(groups_cirq):\n",
    "    print(f\"On group {i + 1} / {len(groups)}.\")\n",
    "    meas_circuit, conjugated_strings = diagonalize_pauli_strings(group, cirq.LineQubit.range(nqubits))\n",
    "    measurement_circuits.append(meas_circuit)\n",
    "    conjugated_paulis.append(conjugated_strings)"
   ]
  },
  {
   "cell_type": "code",
   "execution_count": null,
   "metadata": {},
   "outputs": [],
   "source": []
  },
  {
   "cell_type": "code",
   "execution_count": null,
   "metadata": {},
   "outputs": [],
   "source": [
    "from typing import Tuple, List\n",
    "import stim\n",
    "import stimcirq\n",
    "\n",
    "\n",
    "def cirq_pstring_to_stim(pstring: cirq.PauliString, qs: List[cirq.Qid]) -> Tuple[float, stim.PauliString]:\n",
    "    \"\"\"Convert a (sparse) cirq PauliString to a stim PauliString. We ignore the sign of the cirq object,\n",
    "    passing the coefficient back instead.\"\"\"\n",
    "\n",
    "    ps_dense = pstring.dense(qs)\n",
    "    # Build the string specifying a stim.PauliString.\n",
    "    stim_spec = \"+\"\n",
    "    for p in ps_dense.pauli_mask:\n",
    "        if p == 0:\n",
    "            stim_spec += \"_\"\n",
    "        elif p == 1:\n",
    "            stim_spec += \"X\"\n",
    "        elif p == 2:\n",
    "            stim_spec += \"Y\"\n",
    "        else:\n",
    "            stim_spec += \"Z\"\n",
    "    return (pstring.coefficient, stim.PauliString(stim_spec))\n",
    "\n",
    "\n",
    "def force_abelian(coeffs: List[float], pstrings: List[stim.PauliString]) -> Tuple[List[float], List[stim.PauliString]]:\n",
    "    \"\"\"Flip signs on Pauli strings so that they commute. Pass coefficients so that we can compensate for flipping signs.\"\"\"\n",
    "\n",
    "    assert len(coeffs) == len(pstrings)\n",
    "\n",
    "    flipped_coeffs: List[float] = []\n",
    "    flipped_pstrings: List[stim.PauliString] = []\n",
    "    for coeff, ps1 in zip(coeffs, pstrings):\n",
    "        # print(f\"ps1 = {ps1}\")\n",
    "        found = False\n",
    "        for i in range(len(flipped_pstrings)):\n",
    "            for j in range(i):\n",
    "                ps2 = flipped_pstrings[i]\n",
    "                ps3 = flipped_pstrings[j]\n",
    "                prod = ps2 * ps3\n",
    "                prod_without_sign = prod.sign * prod\n",
    "                ps1_without_sign = ps1.sign * ps1\n",
    "                # print(f\"prod = {prod}\")\n",
    "                # print(f\"prod_without_sign = {prod_without_sign}\")\n",
    "                if prod_without_sign == ps1_without_sign:\n",
    "                    found = True\n",
    "                    # print(f\"Found pair {ps2} * {ps3} ~= {ps1}\")\n",
    "                    # print(prod.sign == ps1.sign)\n",
    "                    flipped_coeffs.append(-1. * coeff)\n",
    "                    flipped_pstrings.append(prod)\n",
    "                    # print(f\"Appending {prod}\")\n",
    "                    break\n",
    "        if not found:\n",
    "            flipped_coeffs.append(coeff)\n",
    "            flipped_pstrings.append(ps1)\n",
    "    return (flipped_coeffs, flipped_pstrings)\n",
    "\n",
    "\n",
    "def stim_string_is_diagonal(pstring: stim.PauliString) -> bool:\n",
    "    \"\"\"Check that a stim PauliString is diagonal.\"\"\"\n",
    "\n",
    "    x_or_y_found = False\n",
    "    for p in pstring:\n",
    "        if p == 1 or p == 2:\n",
    "            x_or_y_found = True\n",
    "    return not x_or_y_found\n",
    "\n",
    "\n",
    "def diagonalize_commuting_group(\n",
    "    group: List[cirq.PauliString], qs: List[cirq.Qid]\n",
    ") -> Tuple[List[float], List[stim.PauliString], stim.Circuit]:\n",
    "    \"\"\"Take a k-commuting group and diagonalize the strings with a Clifford circuit.\"\"\"\n",
    "    \n",
    "    # Flip signs on the coefficients and the strings s.t. the set if from\n",
    "    # an Abelian group.\n",
    "    coeffs: List[float] = []\n",
    "    stim_strings: List[stim.PauliString] = []\n",
    "    for pstring in group:\n",
    "        coeff, stim_string = cirq_pstring_to_stim(pstring, qs)\n",
    "        coeffs.append(coeff)\n",
    "        stim_strings.append(stim_string)\n",
    "    new_coeffs, new_strings = force_abelian(coeffs, stim_strings)\n",
    "    \n",
    "    # Stim says the resulting circuit will diagonalize the given strings,\n",
    "    # so long as they are all from an Abelian group.\n",
    "    tab = stim.Tableau.from_stabilizers(new_strings, allow_redundant=True, allow_underconstrained=True)\n",
    "    ckt = tab.to_circuit()\n",
    "\n",
    "    # Get strings conjugated by the circuit, and check that they are diagonal.\n",
    "    conjugated_strings: List[stim.PauliString] = []\n",
    "    for pstring in new_strings:\n",
    "        conj_string = pstring.before(ckt)\n",
    "        if not stim_string_is_diagonal(conj_string):\n",
    "            raise AssertionError(f\"Mapping {pstring} -> {conj_string} does not diagonalize.\")\n",
    "        conjugated_strings.append(conj_string)\n",
    "    return(new_coeffs, conjugated_strings, ckt)"
   ]
  },
  {
   "cell_type": "code",
   "execution_count": null,
   "metadata": {
    "scrolled": true
   },
   "outputs": [],
   "source": [
    "stabilizers = [stim.PauliString(\"XX\"), stim.PauliString(\"ZZ\"), -stim.PauliString(\"YY\")]\n",
    "circuit = stimcirq.stim_circuit_to_cirq_circuit(\n",
    "    stim.Tableau.from_stabilizers(stabilizers, allow_redundant=True).to_circuit()\n",
    ")"
   ]
  },
  {
   "cell_type": "code",
   "execution_count": null,
   "metadata": {},
   "outputs": [],
   "source": [
    "qubits_cirq = cirq.LineQubit.range(nqubits)"
   ]
  },
  {
   "cell_type": "code",
   "execution_count": null,
   "metadata": {},
   "outputs": [],
   "source": [
    "all_results = []\n",
    "for i, group in enumerate(groups_cirq[1:]):\n",
    "    print(f\"On group {i + 1} / {len(groups)}.\", end=\"\\r\")\n",
    "    new_coeffs, new_strings, ckt = diagonalize_commuting_group(group, qubits_cirq)\n",
    "    all_results.append((group, new_coeffs, new_strings, ckt))"
   ]
  },
  {
   "cell_type": "code",
   "execution_count": null,
   "metadata": {},
   "outputs": [],
   "source": [
    "stimcirq.stim_circuit_to_cirq_circuit(all_results[1][3])"
   ]
  },
  {
   "cell_type": "markdown",
   "metadata": {},
   "source": [
    "## Connect to Qiskit runtime service"
   ]
  },
  {
   "cell_type": "code",
   "execution_count": null,
   "metadata": {},
   "outputs": [],
   "source": [
    "service = qiskit_ibm_runtime.QiskitRuntimeService() # This assumes a saved account.\n",
    "computer = service.backend(ibm_computer)\n",
    "sampler = Sampler(computer)\n",
    "\n",
    "computer_fractional_gates = service.backend(ibm_computer, use_fractional_gates=True)\n",
    "sampler_fractional_gates = Sampler(computer_fractional_gates)"
   ]
  },
  {
   "cell_type": "markdown",
   "metadata": {},
   "source": [
    "## Run experiment"
   ]
  },
  {
   "cell_type": "code",
   "execution_count": null,
   "metadata": {},
   "outputs": [],
   "source": [
    "base.measure_active()"
   ]
  },
  {
   "cell_type": "code",
   "execution_count": null,
   "metadata": {},
   "outputs": [],
   "source": [
    "compiled = qiskit.transpile(\n",
    "    base,\n",
    "    backend=computer,\n",
    "    # initial_layout=qubits,\n",
    ")\n",
    "compiled.draw(fold=-1, idle_wires=False)"
   ]
  },
  {
   "cell_type": "code",
   "execution_count": null,
   "metadata": {},
   "outputs": [],
   "source": [
    "compiled.count_ops()"
   ]
  },
  {
   "cell_type": "code",
   "execution_count": null,
   "metadata": {},
   "outputs": [],
   "source": [
    "to_run = compiled.copy()"
   ]
  },
  {
   "cell_type": "markdown",
   "metadata": {},
   "source": [
    "## Noiseless result"
   ]
  },
  {
   "cell_type": "code",
   "execution_count": null,
   "metadata": {},
   "outputs": [],
   "source": [
    "job = AerSimulator().run(to_run, shots=nshots)"
   ]
  },
  {
   "cell_type": "code",
   "execution_count": null,
   "metadata": {},
   "outputs": [],
   "source": [
    "counts_all = {np.binary_repr(int(z, 16), len(qubits)): count for z, count in job.result().data().get(\"counts\").items()}\n",
    "counts_all"
   ]
  },
  {
   "cell_type": "code",
   "execution_count": null,
   "metadata": {},
   "outputs": [],
   "source": [
    "qiskit.visualization.plot_histogram(counts_all, number_to_keep=40)"
   ]
  },
  {
   "cell_type": "code",
   "execution_count": null,
   "metadata": {},
   "outputs": [],
   "source": [
    "from typing import Dict\n",
    "import collections\n",
    "\n",
    "import cirq\n",
    "\n",
    "# def get_counts_for(qubit: int, counts: collections.Counter[str, int]) -> collections.Counter[int, int]:\n",
    "#     qubit_counts = collections.Counter()\n",
    "#     for key, value in counts.items():\n",
    "#         k = list(key)[qubit]\n",
    "#         qubit_counts[int(k)] += value\n",
    "#     return qubit_counts\n",
    "\n",
    "\n",
    "def _compute_expectation(\n",
    "    pauli: cirq.PauliString,\n",
    "    counts: Dict[str, int],\n",
    ") -> float:\n",
    "    if pauli is cirq.PauliString():\n",
    "        return pauli.coefficient\n",
    "\n",
    "    expectation = 0.0\n",
    "\n",
    "    indices = [q.x for q in pauli.qubits]\n",
    "    for key, value in counts.items():\n",
    "        key = list(map(int, list(key[::-1])))\n",
    "        expectation += (-1) ** sum([key[i] for i in indices]) * value\n",
    "\n",
    "    return pauli.coefficient * expectation / sum(counts.values())\n",
    "\n",
    "\n",
    "def compute_expectation(\n",
    "    pauli_sum: cirq.PauliSum,\n",
    "    counts: Dict[str, int],\n",
    ") -> float:\n",
    "    expval = 0.0\n",
    "    for pauli in pauli_sum:\n",
    "        expval += _compute_expectation(pauli, counts)\n",
    "    return expval"
   ]
  },
  {
   "cell_type": "code",
   "execution_count": null,
   "metadata": {},
   "outputs": [],
   "source": [
    "compute_expectation(ham0, counts_all)"
   ]
  },
  {
   "cell_type": "code",
   "execution_count": null,
   "metadata": {},
   "outputs": [],
   "source": [
    "def get_counts_for(counts: dict[str, int], *qubits) -> Counter:\n",
    "    new = Counter()\n",
    "    for bitstring, number in counts.items():\n",
    "        subselected = \"\".join(bitstring[q] for q in qubits)\n",
    "        new[subselected] += number\n",
    "    return new"
   ]
  },
  {
   "cell_type": "markdown",
   "metadata": {},
   "source": [
    "## Noisy result"
   ]
  },
  {
   "cell_type": "code",
   "execution_count": null,
   "metadata": {},
   "outputs": [],
   "source": [
    "job = sampler.run([to_run], shots=nshots)\n",
    "# job = service.job(\"d1vvr4gkchbs73ca903g\")"
   ]
  },
  {
   "cell_type": "code",
   "execution_count": null,
   "metadata": {},
   "outputs": [],
   "source": [
    "all_counts = [result.data.meas.get_counts() for result in job.result()]"
   ]
  },
  {
   "cell_type": "code",
   "execution_count": null,
   "metadata": {},
   "outputs": [],
   "source": [
    "hamiltonian_cirq"
   ]
  },
  {
   "cell_type": "code",
   "execution_count": null,
   "metadata": {
    "scrolled": true
   },
   "outputs": [],
   "source": [
    "all_counts[0]"
   ]
  },
  {
   "cell_type": "code",
   "execution_count": null,
   "metadata": {},
   "outputs": [],
   "source": [
    "qiskit.visualization.plot_histogram(all_counts[0], number_to_keep=40)"
   ]
  },
  {
   "cell_type": "code",
   "execution_count": null,
   "metadata": {},
   "outputs": [],
   "source": [
    "compute_expectation(ham0, all_counts[0])"
   ]
  },
  {
   "cell_type": "markdown",
   "metadata": {},
   "source": [
    "## Begin QEM"
   ]
  },
  {
   "cell_type": "markdown",
   "metadata": {},
   "source": [
    "## With fractional gates"
   ]
  },
  {
   "cell_type": "code",
   "execution_count": null,
   "metadata": {},
   "outputs": [],
   "source": [
    "job_fractional_gates = sampler_fractional_gates.run([to_run], shots=nshots)"
   ]
  },
  {
   "cell_type": "code",
   "execution_count": null,
   "metadata": {},
   "outputs": [],
   "source": [
    "all_counts_frac = [result.data.measure.get_counts() for result in job_fractional_gates.result()]"
   ]
  },
  {
   "cell_type": "code",
   "execution_count": null,
   "metadata": {},
   "outputs": [],
   "source": [
    "counts_frac = [get_counts_for(c, qubit1, qubit2) for c in all_counts_frac][0]\n",
    "counts_frac"
   ]
  },
  {
   "cell_type": "code",
   "execution_count": null,
   "metadata": {},
   "outputs": [],
   "source": [
    "exp_zz_frac = sum(\n",
    "    count * (-1) ** sum(map(int, bitstring)) for bitstring, count in counts_frac.items()\n",
    ") / nshots\n",
    "exp_zz_frac"
   ]
  },
  {
   "cell_type": "markdown",
   "metadata": {},
   "source": [
    "## With dynamical decoupling"
   ]
  },
  {
   "cell_type": "code",
   "execution_count": null,
   "metadata": {},
   "outputs": [],
   "source": [
    "sampler_dd = Sampler(computer)\n",
    "sampler_dd.options.dynamical_decoupling.enable = True\n",
    "sampler_dd.options.dynamical_decoupling.sequence_type = \"XpXm\""
   ]
  },
  {
   "cell_type": "code",
   "execution_count": null,
   "metadata": {},
   "outputs": [],
   "source": [
    "job_dd = sampler_dd.run([to_run], shots=nshots)\n",
    "# job_dd = service.job(\"d1vvt1okchbs73ca920g\")"
   ]
  },
  {
   "cell_type": "code",
   "execution_count": null,
   "metadata": {},
   "outputs": [],
   "source": [
    "all_counts_dd = [result.data.measure.get_counts() for result in job_dd.result()]"
   ]
  },
  {
   "cell_type": "code",
   "execution_count": null,
   "metadata": {},
   "outputs": [],
   "source": [
    "counts_dd = [get_counts_for(c, qubit1, qubit2) for c in all_counts_dd][0]\n",
    "counts_dd"
   ]
  },
  {
   "cell_type": "code",
   "execution_count": null,
   "metadata": {},
   "outputs": [],
   "source": [
    "exp_zz_dd = sum(\n",
    "    count * (-1) ** sum(map(int, bitstring)) for bitstring, count in counts_dd.items()\n",
    ") / nshots\n",
    "exp_zz_dd"
   ]
  },
  {
   "cell_type": "markdown",
   "metadata": {},
   "source": [
    "## With readout error mitigation"
   ]
  },
  {
   "cell_type": "code",
   "execution_count": null,
   "metadata": {},
   "outputs": [],
   "source": [
    "from qiskit_experiments.library import LocalReadoutError\n",
    "from qiskit.result.distributions.quasi import QuasiDistribution \n",
    "\n",
    "from qiskit_experiments.library.characterization.analysis import LocalReadoutErrorAnalysis"
   ]
  },
  {
   "cell_type": "code",
   "execution_count": null,
   "metadata": {},
   "outputs": [],
   "source": [
    "experiment = LocalReadoutError(qubits)\n",
    "result = experiment.run(computer)"
   ]
  },
  {
   "cell_type": "code",
   "execution_count": null,
   "metadata": {},
   "outputs": [],
   "source": [
    "mitigator = result.analysis_results(\"Local Readout Mitigator\", dataframe=True).iloc[0].value"
   ]
  },
  {
   "cell_type": "code",
   "execution_count": null,
   "metadata": {},
   "outputs": [],
   "source": [
    "correction_matrices = []\n",
    "for i in range(len(qubits)):\n",
    "    correction_matrices.append(mitigator.mitigation_matrix(qubits[i]))\n",
    "\n",
    "counts_per_bit = []\n",
    "for i in range(len(qubits)):\n",
    "    counts_per_bit.append(get_counts_for(all_counts[0],i))\n",
    "\n",
    "margdist_per_bit = []\n",
    "for i in range(len(qubits)):\n",
    "    margdist_per_bit.append(np.array([counts_per_bit[i].get(\"0\"), counts_per_bit[i].get(\"1\")]) / nshots)\n",
    "\n",
    "corrected_margdist_per_bit = []\n",
    "for i in range(len(qubits)):\n",
    "    corrected_margdist_per_bit.append(mitigator.mitigation_matrix(qubits[i]) @ margdist_per_bit[i])\n",
    "\n",
    "new_bits = []\n",
    "for i in range(len(qubits)):\n",
    "    new_bits.append(np.random.choice([0, 1], size=nshots, p=corrected_margdist_per_bit[i]))\n",
    "\n",
    "corrected_bitstrings = [\"\".join(str(new_bits[i][j]) for i in range(len(qubits))) for j in range(nshots)]\n",
    "corrected_counts = Counter(corrected_bitstrings)"
   ]
  },
  {
   "cell_type": "code",
   "execution_count": null,
   "metadata": {},
   "outputs": [],
   "source": [
    "def apply_rem(\n",
    "    counts: dict[str, int], \n",
    "    mitigator: \"qiskit_experiments.LocalReadoutMitigator\",\n",
    "    *qubits) -> dict[str: int]:\n",
    "    counts = get_counts_for(counts, *qubits)\n",
    "    vec = np.zeros(2 ** len(qubits), dtype=float)\n",
    "    for bitstring, count in counts.items():\n",
    "        vec[int(bitstring, 2)] = count\n",
    "    vec = vec / nshots\n",
    "    assert np.allclose(vec.sum(), 1.0)\n",
    "\n",
    "    mitigated_probs_quasi = mitigator.mitigation_matrix(qubits=qubits) @ vec\n",
    "    mitigated_probs_quasi = QuasiDistribution({i: v for i, v in enumerate(mitigated_probs_quasi)})\n",
    "    mitigated_counts = {\n",
    "        bitstring: int(nshots * prob) for bitstring, prob in mitigated_probs_quasi.nearest_probability_distribution().binary_probabilities().items()\n",
    "    }\n",
    "    return mitigated_counts"
   ]
  },
  {
   "cell_type": "code",
   "execution_count": null,
   "metadata": {},
   "outputs": [],
   "source": [
    "all_counts_rem = [apply_rem(counts, mitigator, qubit1, qubit2) for counts in all_counts]"
   ]
  },
  {
   "cell_type": "code",
   "execution_count": null,
   "metadata": {},
   "outputs": [],
   "source": [
    "exp_zz_rem = sum(\n",
    "    count * (-1) ** sum(map(int, bitstring)) for bitstring, count in all_counts_rem[0].items()\n",
    ") / nshots\n",
    "exp_zz_rem"
   ]
  },
  {
   "cell_type": "code",
   "execution_count": null,
   "metadata": {},
   "outputs": [],
   "source": [
    "all_counts_dd_rem = [apply_rem(counts, mitigator, qubit1, qubit2) for counts in all_counts_dd]"
   ]
  },
  {
   "cell_type": "code",
   "execution_count": null,
   "metadata": {},
   "outputs": [],
   "source": [
    "exp_zz_dd_rem = sum(\n",
    "    count * (-1) ** sum(map(int, bitstring)) for bitstring, count in all_counts_dd_rem[0].items()\n",
    ") / nshots\n",
    "exp_zz_dd_rem"
   ]
  },
  {
   "cell_type": "markdown",
   "metadata": {},
   "source": [
    "## With ZNE"
   ]
  },
  {
   "cell_type": "code",
   "execution_count": null,
   "metadata": {},
   "outputs": [],
   "source": [
    "from mitiq import zne"
   ]
  },
  {
   "cell_type": "code",
   "execution_count": null,
   "metadata": {},
   "outputs": [],
   "source": [
    "qasm2_circuit = qasm2.dumps(compiled)\n",
    "\n",
    "compiled_cirq = circuit_from_qasm(qasm2_circuit.replace(\"qregless\", \"q\"))"
   ]
  },
  {
   "cell_type": "code",
   "execution_count": null,
   "metadata": {},
   "outputs": [],
   "source": [
    "scale_factors = [1, 3, 5]"
   ]
  },
  {
   "cell_type": "code",
   "execution_count": null,
   "metadata": {},
   "outputs": [],
   "source": [
    "scaled_circuits_cirq = [zne.scaling.fold_global(compiled_cirq, scale_factor) for scale_factor in scale_factors]"
   ]
  },
  {
   "cell_type": "code",
   "execution_count": null,
   "metadata": {},
   "outputs": [],
   "source": [
    "scaled_circuits = [to_qiskit(circuit) for circuit in scaled_circuits_cirq]\n",
    "scaled_circuits = qiskit.transpile(\n",
    "    scaled_circuits,\n",
    "    backend=computer,\n",
    "    initial_layout=qubits,\n",
    "    optimization_level=0,\n",
    ")"
   ]
  },
  {
   "cell_type": "code",
   "execution_count": null,
   "metadata": {},
   "outputs": [],
   "source": [
    "to_run_scaled = [get_measured_circuit(scaled_circuit) for scaled_circuit in scaled_circuits]"
   ]
  },
  {
   "cell_type": "code",
   "execution_count": null,
   "metadata": {},
   "outputs": [],
   "source": [
    "job_zne = sampler.run(to_run_scaled, shots=nshots)\n",
    "# job_zne = service.job(\"d1vvtd1mr05s73a71lbg\")"
   ]
  },
  {
   "cell_type": "code",
   "execution_count": null,
   "metadata": {},
   "outputs": [],
   "source": [
    "all_counts_zne = [result.data.measure.get_counts() for result in job_zne.result()]"
   ]
  },
  {
   "cell_type": "code",
   "execution_count": null,
   "metadata": {},
   "outputs": [],
   "source": [
    "counts_zne = [get_counts_for(c, qubit1, qubit2) for c in all_counts_zne]\n",
    "counts_zne"
   ]
  },
  {
   "cell_type": "code",
   "execution_count": null,
   "metadata": {},
   "outputs": [],
   "source": [
    "exp_zz_vals = [\n",
    "    sum(\n",
    "        count * (-1) ** sum(map(int, bitstring)) for bitstring, count in counts.items()\n",
    "    ) / nshots\n",
    "    for counts in counts_zne\n",
    "]\n",
    "exp_zz_vals"
   ]
  },
  {
   "cell_type": "code",
   "execution_count": null,
   "metadata": {},
   "outputs": [],
   "source": [
    "plt.plot(scale_factors, exp_zz_vals, \"--o\", ms=10, mec=\"black\", alpha=0.75)\n",
    "plt.xlabel(r\"Scale factor $\\lambda$\")\n",
    "plt.ylabel(rf\"$\\langle ZZ \\rangle (\\lambda) $\");"
   ]
  },
  {
   "cell_type": "code",
   "execution_count": null,
   "metadata": {},
   "outputs": [],
   "source": [
    "exp_zz_zne = zne.inference.PolyFactory.extrapolate(\n",
    "    scale_factors,\n",
    "    exp_zz_vals,\n",
    "    order=2,\n",
    ")\n",
    "exp_zz_zne"
   ]
  },
  {
   "cell_type": "markdown",
   "metadata": {},
   "source": [
    "## ZNE + REM"
   ]
  },
  {
   "cell_type": "code",
   "execution_count": null,
   "metadata": {},
   "outputs": [],
   "source": [
    "counts_zne_rem = [apply_rem(counts, mitigator, qubit1, qubit2) for counts in all_counts_zne]"
   ]
  },
  {
   "cell_type": "code",
   "execution_count": null,
   "metadata": {},
   "outputs": [],
   "source": [
    "exp_zz_vals_zne_rem = [\n",
    "    sum(\n",
    "        count * (-1) ** sum(map(int, bitstring)) for bitstring, count in counts.items()\n",
    "    ) / nshots\n",
    "    for counts in counts_zne_rem\n",
    "]\n",
    "exp_zz_vals_zne_rem"
   ]
  },
  {
   "cell_type": "code",
   "execution_count": null,
   "metadata": {},
   "outputs": [],
   "source": [
    "plt.plot(scale_factors, exp_zz_vals, \"--o\", ms=10, mec=\"black\", alpha=0.75)\n",
    "plt.xlabel(r\"Scale factor $\\lambda$\")\n",
    "plt.ylabel(rf\"$\\langle ZZ \\rangle (\\lambda) $\");"
   ]
  },
  {
   "cell_type": "code",
   "execution_count": null,
   "metadata": {},
   "outputs": [],
   "source": [
    "exp_zz_zne_rem = zne.inference.PolyFactory.extrapolate(\n",
    "    scale_factors,\n",
    "    exp_zz_vals_zne_rem,\n",
    "    order=2,\n",
    ")\n",
    "exp_zz_zne_rem"
   ]
  },
  {
   "cell_type": "markdown",
   "metadata": {},
   "source": [
    "## With decoherence renormalization"
   ]
  },
  {
   "cell_type": "code",
   "execution_count": null,
   "metadata": {},
   "outputs": [],
   "source": [
    "from typing import List, Optional\n",
    "\n",
    "\n",
    "def get_echo_circuit(\n",
    "    computer: qiskit_ibm_runtime.IBMBackend,\n",
    "    qubits: List[int],\n",
    "    depth: int,\n",
    "    seed: Optional[int] = None,\n",
    ") -> qiskit.QuantumCircuit:\n",
    "    \"\"\"Return a (Loschmidt) echo circuit.\n",
    "\n",
    "    The circuit is built by applying random single-qubit rotations (angles set by `seed`)\n",
    "    and layers of two-qubit gates which can be implemented on the `computer` to create a \n",
    "    unitary U. Then, the inverse unitary U^dag is applied. \n",
    "\n",
    "    Args:\n",
    "        computer: Determines the implementable gates (unitaries and couplings) for the echo circuit.\n",
    "        qubits: A subset of qubits on the computer to implement the echo on.\n",
    "        depth: The number of layers of single-qubit rotations/two-qubit gates in U.\n",
    "        seed: Determines the angle of rotations for random single-qubit rotations in each layer.\n",
    "    \"\"\"\n",
    "    # Get a random state (determines the angles in single-qubit rotations).\n",
    "    rng = np.random.RandomState(seed)\n",
    "    \n",
    "    # Get the subgraph.\n",
    "    subgraph_edges = []\n",
    "    \n",
    "    for edge in computer.coupling_map.get_edges():\n",
    "        if edge[0] in qubits and edge[1] in qubits:\n",
    "            subgraph_edges.append(edge)\n",
    "    \n",
    "    graph = nx.Graph()\n",
    "    graph.add_edges_from(subgraph_edges)\n",
    "    \n",
    "    # Get the two-qubit gate from the device. TODO: Handle cases where the two-qubit gate is neither ECR nor CNOT.\n",
    "    two_qubit_gate = qiskit.circuit.library.ECRGate() if \"ecr\" in computer.configuration().basis_gates else qiskit.circuit.library.CZGate()\n",
    "    \n",
    "    # Group edges into sets in which two-qubit gates can be performed in parallel.\n",
    "    edge_sets = [set()]\n",
    "    \n",
    "    for edge_index, edge in enumerate(graph.edges):\n",
    "        for i, edge_set in enumerate(edge_sets):\n",
    "            edge_added_to_a_set = False\n",
    "            node_list = [e[0] for e in edge_set] + [e[1] for e in edge_set]\n",
    "            if edge[0] in node_list or edge[1] in node_list:\n",
    "                continue\n",
    "            else:\n",
    "                edge_sets[i].add(edge)\n",
    "                edge_added_to_a_set = True\n",
    "                break\n",
    "    \n",
    "        if not edge_added_to_a_set:\n",
    "            edge_sets.append(set())\n",
    "            edge_sets[-1].add(edge)\n",
    "\n",
    "    # print(\"Found edge sets:\")\n",
    "    # print(edge_sets)\n",
    "    \n",
    "    # Get a circuit with the qubits on the computer.\n",
    "    circuit = qiskit.QuantumCircuit()\n",
    "    circuit = qiskit.transpile(circuit, backend=computer)\n",
    "    \n",
    "    rng = np.random.RandomState(seed=seed)\n",
    "    \n",
    "    for _ in range(depth):\n",
    "        for edge_set in edge_sets:\n",
    "            # Do a layer of single-qubit rotations.\n",
    "            for qubit in graph.nodes():\n",
    "                circuit.append(qiskit.circuit.library.XGate(), qargs=[circuit.qubits[qubit]])\n",
    "                circuit.append(qiskit.circuit.library.RZGate(2 * np.pi * rng.normal()), qargs=[circuit.qubits[qubit]])\n",
    "                circuit.append(qiskit.circuit.library.XGate(), qargs=[circuit.qubits[qubit]])\n",
    "    \n",
    "            # Do a layer of two-qubit gates.\n",
    "            for edge in edge_set:\n",
    "                circuit.append(two_qubit_gate, qargs=[circuit.qubits[edge[0]], circuit.qubits[edge[1]]])\n",
    "    \n",
    "            # circuit.barrier()\n",
    "    \n",
    "    # Add the echo.\n",
    "    circuit = circuit.compose(circuit.inverse())\n",
    "    \n",
    "    # Measure active qubits.\n",
    "    if depth == 0:\n",
    "        creg = qiskit.ClassicalRegister(len(graph.nodes()), name=\"meas\")  # Note: This is hardcoded as `\"meas\"` to match the default name when `qiskit.QuantumCircuit.measure_active` is used.\n",
    "        circuit.add_register(creg)\n",
    "        for i, qubit in enumerate(sorted(graph.nodes())):\n",
    "            circuit.measure(qubit, creg[i])\n",
    "    else:\n",
    "        circuit.measure_active()\n",
    "    \n",
    "    return circuit"
   ]
  },
  {
   "cell_type": "code",
   "execution_count": null,
   "metadata": {},
   "outputs": [],
   "source": [
    "echo = get_echo_circuit(computer, qubits, depth=4, seed=1)"
   ]
  },
  {
   "cell_type": "code",
   "execution_count": null,
   "metadata": {},
   "outputs": [],
   "source": [
    "echo.count_ops()"
   ]
  },
  {
   "cell_type": "code",
   "execution_count": null,
   "metadata": {},
   "outputs": [],
   "source": [
    "job_echo = sampler.run([echo], shots=nshots)"
   ]
  },
  {
   "cell_type": "code",
   "execution_count": null,
   "metadata": {},
   "outputs": [],
   "source": [
    "all_counts_echo = [result.data.measure.get_counts() for result in job_echo.result()]"
   ]
  },
  {
   "cell_type": "code",
   "execution_count": null,
   "metadata": {},
   "outputs": [],
   "source": [
    "renormalization = 1.0 - all_counts_echo[0].get(\"0\" * len(qubits), 0) / nshots\n",
    "renormalization"
   ]
  },
  {
   "cell_type": "code",
   "execution_count": null,
   "metadata": {},
   "outputs": [],
   "source": [
    "exp_zz_drn = exp_zz / renormalization\n",
    "exp_zz_drn"
   ]
  },
  {
   "cell_type": "markdown",
   "metadata": {},
   "source": [
    "## Plot results"
   ]
  },
  {
   "cell_type": "code",
   "execution_count": null,
   "metadata": {},
   "outputs": [],
   "source": [
    "labels_vals = {\n",
    "    \"Ideal\": exp_zz_ideal,\n",
    "    \"Hardware\": exp_zz,\n",
    "    \"DD\": exp_zz_dd,\n",
    "    \"REM\": exp_zz_rem,\n",
    "    \"DD+REM\": exp_zz_dd_rem,\n",
    "    \"ZNE\": exp_zz_zne,\n",
    "    \"ZNE+REM\": exp_zz_zne_rem,\n",
    "}\n",
    "colors = [\"tab:green\", \"tab:red\", \"tab:grey\", \"tab:orange\", \"tab:pink\", \"tab:blue\", \"salmon\"]\n",
    "vals = list(labels_vals.values())\n",
    "labels = list(labels_vals.keys())\n",
    "\n",
    "plt.bar(range(len(vals)), vals, tick_label=labels, color=colors, edgecolor=\"black\", alpha=0.75)\n",
    "plt.ylabel(r\"$\\langle ZZ \\rangle$\");\n",
    "plt.savefig(\"hchain_qem_v4.pdf\")"
   ]
  },
  {
   "cell_type": "markdown",
   "metadata": {},
   "source": []
  }
 ],
 "metadata": {
  "kernelspec": {
   "display_name": "envwateribm",
   "language": "python",
   "name": "envwateribm"
  },
  "language_info": {
   "codemirror_mode": {
    "name": "ipython",
    "version": 3
   },
   "file_extension": ".py",
   "mimetype": "text/x-python",
   "name": "python",
   "nbconvert_exporter": "python",
   "pygments_lexer": "ipython3",
   "version": "3.10.17"
  }
 },
 "nbformat": 4,
 "nbformat_minor": 4
}
