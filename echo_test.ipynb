{
 "cells": [
  {
   "cell_type": "markdown",
   "metadata": {},
   "source": [
    "# Echo tests"
   ]
  },
  {
   "cell_type": "code",
   "execution_count": 289,
   "metadata": {},
   "outputs": [],
   "source": [
    "from typing import Optional, List\n",
    "\n",
    "import matplotlib.pyplot as plt; plt.rcParams.update({\"font.family\": \"serif\"})\n",
    "import networkx as nx\n",
    "import numpy as np\n",
    "\n",
    "import qiskit\n",
    "from qiskit._accelerate import circuit_library\n",
    "from qiskit_aer import AerSimulator\n",
    "import qiskit_ibm_runtime\n",
    "from qiskit_ibm_runtime import SamplerV2 as Sampler"
   ]
  },
  {
   "cell_type": "code",
   "execution_count": 325,
   "metadata": {},
   "outputs": [
    {
     "name": "stdout",
     "output_type": "stream",
     "text": [
      "Number of qubits: 3\n"
     ]
    }
   ],
   "source": [
    "ibm_computer: str = \"ibm_sherbrooke\"\n",
    "qubits = [113, 114, 115]  # list(range(113, 126 + 1)) + [112, 108, 107]\n",
    "depths = [0, 4, 8, 12, 16, 18, 20, 22, 24]\n",
    "nshots: int = 10_000\n",
    "\n",
    "print(\"Number of qubits:\", len(qubits))"
   ]
  },
  {
   "cell_type": "code",
   "execution_count": 217,
   "metadata": {},
   "outputs": [
    {
     "name": "stderr",
     "output_type": "stream",
     "text": [
      "qiskit_runtime_service._resolve_cloud_instances:WARNING:2025-07-20 15:01:56,425: Default instance not set. Searching all available instances.\n"
     ]
    }
   ],
   "source": [
    "service = qiskit_ibm_runtime.QiskitRuntimeService(\n",
    "    channel=\"ibm_cloud\",\n",
    "    token=\"RTtHqAdl2N0_y32QbmvCOZ7PaUu8RdHikYU8cpyHyGx9\"\n",
    ") # This assumes a saved account.\n",
    "computer = service.backend(ibm_computer)\n",
    "sampler = Sampler(computer)"
   ]
  },
  {
   "cell_type": "code",
   "execution_count": 326,
   "metadata": {},
   "outputs": [],
   "source": [
    "def get_echo_circuit(\n",
    "    computer: qiskit_ibm_runtime.IBMBackend,\n",
    "    qubits: List[int],\n",
    "    depth: int,\n",
    "    seed: Optional[int] = None,\n",
    ") -> qiskit.QuantumCircuit:\n",
    "    \"\"\"Return a (Loschmidt) echo circuit.\n",
    "\n",
    "    The circuit is built by applying random single-qubit rotations (angles set by `seed`)\n",
    "    and layers of two-qubit gates which can be implemented on the `computer` to create a \n",
    "    unitary U. Then, the inverse unitary U^dag is applied. \n",
    "\n",
    "    Args:\n",
    "        computer: Determines the implementable gates (unitaries and couplings) for the echo circuit.\n",
    "        qubits: A subset of qubits on the computer to implement the echo on.\n",
    "        depth: The number of layers of single-qubit rotations/two-qubit gates in U.\n",
    "        seed: Determines the angle of rotations for random single-qubit rotations in each layer.\n",
    "    \"\"\"\n",
    "    # Get a random state (determines the angles in single-qubit rotations).\n",
    "    rng = np.random.RandomState(seed)\n",
    "    \n",
    "    # Get the subgraph.\n",
    "    subgraph_edges = []\n",
    "    \n",
    "    for edge in computer.coupling_map.get_edges():\n",
    "        if edge[0] in qubits and edge[1] in qubits:\n",
    "            subgraph_edges.append(edge)\n",
    "    \n",
    "    graph = nx.Graph()\n",
    "    graph.add_edges_from(subgraph_edges)\n",
    "    \n",
    "    # Get the two-qubit gate from the device. TODO: Handle cases where the two-qubit gate is neither ECR nor CNOT.\n",
    "    two_qubit_gate = qiskit.circuit.library.ECRGate() if \"ecr\" in computer.configuration().basis_gates else qiskit.circuit.library.CXGate()\n",
    "    \n",
    "    # Group edges into sets in which two-qubit gates can be performed in parallel.\n",
    "    edge_sets = [set()]\n",
    "    \n",
    "    for edge_index, edge in enumerate(graph.edges):\n",
    "        for i, edge_set in enumerate(edge_sets):\n",
    "            edge_added_to_a_set = False\n",
    "            node_list = [e[0] for e in edge_set] + [e[1] for e in edge_set]\n",
    "            if edge[0] in node_list or edge[1] in node_list:\n",
    "                continue\n",
    "            else:\n",
    "                edge_sets[i].add(edge)\n",
    "                edge_added_to_a_set = True\n",
    "                break\n",
    "    \n",
    "        if not edge_added_to_a_set:\n",
    "            edge_sets.append(set())\n",
    "            edge_sets[-1].add(edge)\n",
    "    \n",
    "    # Get a circuit with the qubits on the computer.\n",
    "    circuit = qiskit.QuantumCircuit()\n",
    "    circuit = qiskit.transpile(circuit, backend=computer)\n",
    "    \n",
    "    rng = np.random.RandomState(seed=seed)\n",
    "    \n",
    "    for _ in range(depth):\n",
    "        for edge_set in edge_sets:\n",
    "            # Do a layer of single-qubit rotations.\n",
    "            for qubit in graph.nodes():\n",
    "                circuit.append(qiskit.circuit.library.XGate(), qargs=[circuit.qubits[qubit]])\n",
    "                circuit.append(qiskit.circuit.library.RZGate(2 * np.pi * rng.normal()), qargs=[circuit.qubits[qubit]])\n",
    "                circuit.append(qiskit.circuit.library.XGate(), qargs=[circuit.qubits[qubit]])\n",
    "    \n",
    "            # Do a layer of two-qubit gates.\n",
    "            for edge in edge_set:\n",
    "                circuit.append(two_qubit_gate, qargs=[circuit.qubits[edge[0]], circuit.qubits[edge[1]]])\n",
    "    \n",
    "            # circuit.barrier()\n",
    "    \n",
    "    # Add the echo.\n",
    "    circuit = circuit.compose(circuit.inverse())\n",
    "    \n",
    "    # Measure active qubits.\n",
    "    if depth == 0:\n",
    "        creg = qiskit.ClassicalRegister(len(graph.nodes()), name=\"meas\")  # Note: This is hardcoded as `\"meas\"` to match the default name when `qiskit.QuantumCircuit.measure_active` is used.\n",
    "        circuit.add_register(creg)\n",
    "        for i, qubit in enumerate(graph.nodes()):\n",
    "            circuit.measure(qubit, creg[i])\n",
    "    else:\n",
    "        circuit.measure_active()\n",
    "    \n",
    "    return circuit"
   ]
  },
  {
   "cell_type": "code",
   "execution_count": 327,
   "metadata": {},
   "outputs": [],
   "source": [
    "to_run = [\n",
    "    get_echo_circuit(computer, qubits, depth, seed=i) for i, depth in enumerate(depths)\n",
    "]"
   ]
  },
  {
   "cell_type": "code",
   "execution_count": 329,
   "metadata": {},
   "outputs": [
    {
     "data": {
      "text/html": [
       "<pre style=\"word-wrap: normal;white-space: pre;background: #fff0;line-height: 1.1;font-family: &quot;Courier New&quot;,Courier,monospace\">                   ┌─┐      \n",
       "ancilla_113 -> 113 ┤M├──────\n",
       "                   └╥┘┌─┐   \n",
       "ancilla_114 -> 114 ─╫─┤M├───\n",
       "                    ║ └╥┘┌─┐\n",
       "ancilla_115 -> 115 ─╫──╫─┤M├\n",
       "                    ║  ║ └╥┘\n",
       "           meas: 3/═╩══╩══╩═\n",
       "                    0  1  2 </pre>"
      ],
      "text/plain": [
       "                   ┌─┐      \n",
       "ancilla_113 -> 113 ┤M├──────\n",
       "                   └╥┘┌─┐   \n",
       "ancilla_114 -> 114 ─╫─┤M├───\n",
       "                    ║ └╥┘┌─┐\n",
       "ancilla_115 -> 115 ─╫──╫─┤M├\n",
       "                    ║  ║ └╥┘\n",
       "           meas: 3/═╩══╩══╩═\n",
       "                    0  1  2 "
      ]
     },
     "execution_count": 329,
     "metadata": {},
     "output_type": "execute_result"
    }
   ],
   "source": [
    "to_run[0].draw(fold=-1)"
   ]
  },
  {
   "cell_type": "code",
   "execution_count": 330,
   "metadata": {},
   "outputs": [],
   "source": [
    "job = sampler.run(to_run, shots=nshots)\n",
    "# job = service.job(\"cuki37mvaprs73fqqui0\")"
   ]
  },
  {
   "cell_type": "code",
   "execution_count": 331,
   "metadata": {},
   "outputs": [],
   "source": [
    "all_counts = [result.data.meas.get_counts() for result in job.result()]"
   ]
  },
  {
   "cell_type": "code",
   "execution_count": 334,
   "metadata": {},
   "outputs": [
    {
     "data": {
      "image/png": "[encoded data removed]",
      "text/plain": [
       "<Figure size 640x480 with 1 Axes>"
      ]
     },
     "metadata": {},
     "output_type": "display_data"
    }
   ],
   "source": [
    "survival_probs = [counts.get(\"0\" * len(qubits), 0) / nshots for counts in all_counts]\n",
    "plt.semilogy(depths, survival_probs, \"--o\", ms=10, mec=\"black\", alpha=0.75, label=\"Physical\")\n",
    "plt.xlabel(\"Depth\")\n",
    "plt.ylabel(\"Survival probability\")\n",
    "plt.legend()\n",
    "plt.title(f\"Loschmidt echo tests on {ibm_computer} qubits \" + \"-\".join(map(str, qubits)));"
   ]
  },
  {
   "cell_type": "markdown",
   "metadata": {},
   "source": [
    "## With dynamical decoupling"
   ]
  },
  {
   "cell_type": "code",
   "execution_count": null,
   "metadata": {},
   "outputs": [],
   "source": [
    "sampler_dd = Sampler(computer)\n",
    "sampler_dd.options.dynamical_decoupling.enable = True\n",
    "sampler_dd.options.dynamical_decoupling.sequence_type = \"XpXm\""
   ]
  },
  {
   "cell_type": "code",
   "execution_count": null,
   "metadata": {},
   "outputs": [],
   "source": [
    "# job_dd = sampler_dd.run(to_run, shots=nshots)\n",
    "job_dd = service.job(\"cuki416vaprs73fqr0sg\")"
   ]
  },
  {
   "cell_type": "code",
   "execution_count": null,
   "metadata": {},
   "outputs": [],
   "source": [
    "all_counts_dd = [result.data.measure.get_counts() for result in job_dd.result()]\n",
    "survival_probs_dd = [counts.get(\"0\" * len(qubits), 0) / nshots for counts in all_counts_dd]"
   ]
  },
  {
   "cell_type": "code",
   "execution_count": null,
   "metadata": {},
   "outputs": [],
   "source": [
    "plt.semilogy(depths, survival_probs, \"--o\", ms=10, mec=\"black\", alpha=0.75, label=\"Physical\")\n",
    "plt.semilogy(depths, survival_probs_dd, \"--o\", ms=10, mec=\"black\", alpha=0.75, label=\"DD\")\n",
    "plt.xlabel(\"Depth\")\n",
    "plt.ylabel(\"Survival probability\")\n",
    "plt.legend()\n",
    "plt.title(f\"Loschmidt echo tests on {ibm_computer} qubits \" + \"-\".join(map(str, qubits)));"
   ]
  },
  {
   "cell_type": "markdown",
   "metadata": {},
   "source": [
    "## With readout error mitigation"
   ]
  },
  {
   "cell_type": "code",
   "execution_count": null,
   "metadata": {},
   "outputs": [],
   "source": [
    "from qiskit_experiments.library import LocalReadoutError"
   ]
  },
  {
   "cell_type": "code",
   "execution_count": null,
   "metadata": {},
   "outputs": [],
   "source": [
    "experiment = LocalReadoutError(qubits)\n",
    "result = experiment.run(computer)"
   ]
  },
  {
   "cell_type": "code",
   "execution_count": null,
   "metadata": {},
   "outputs": [],
   "source": [
    "mitigator = result.analysis_results(\"Local Readout Mitigator\").value"
   ]
  },
  {
   "cell_type": "code",
   "execution_count": null,
   "metadata": {},
   "outputs": [],
   "source": [
    "def apply_rem(counts: dict[str, int], mitigator: \"qiskit_experiments.LocalReadoutMitigator\") -> dict[str, int]:\n",
    "    mitigated_quasi_probs = mitigator.quasi_probabilities(counts)\n",
    "    mitigated_probs = (mitigated_quasi_probs.nearest_probability_distribution().binary_probabilities())\n",
    "    return {k: round(v * nshots) for k, v in mitigated_probs.items()}"
   ]
  },
  {
   "cell_type": "code",
   "execution_count": null,
   "metadata": {},
   "outputs": [],
   "source": [
    "all_counts_rem = [apply_rem(counts, mitigator) for counts in all_counts]\n",
    "survival_probs_rem = [counts.get(\"0\" * len(qubits), 0) / sum(counts.values()) for counts in all_counts_rem]"
   ]
  },
  {
   "cell_type": "code",
   "execution_count": null,
   "metadata": {},
   "outputs": [],
   "source": [
    "all_counts_dd_rem = [apply_rem(counts, mitigator) for counts in all_counts_dd]\n",
    "survival_probs_dd_rem = [counts.get(\"0\" * len(qubits), 0) / sum(counts.values()) for counts in all_counts_dd_rem]"
   ]
  },
  {
   "cell_type": "code",
   "execution_count": null,
   "metadata": {},
   "outputs": [],
   "source": [
    "plt.semilogy(depths, survival_probs, \"--o\", ms=10, mec=\"black\", alpha=0.5, label=\"Physical\")\n",
    "plt.semilogy(depths, survival_probs_dd, \"--o\", ms=10, mec=\"black\", alpha=0.5, label=\"DD\")\n",
    "plt.semilogy(depths, survival_probs_rem, \"--o\", ms=10, mec=\"black\", alpha=0.5, label=\"REM\")\n",
    "plt.semilogy(depths, survival_probs_dd_rem, \"--o\", ms=10, mec=\"black\", alpha=0.5, label=\"DD + REM\")\n",
    "plt.xlabel(\"Depth\")\n",
    "plt.ylabel(\"Survival probability\")\n",
    "plt.legend()\n",
    "plt.title(f\"Loschmidt echo tests on {ibm_computer} qubits \" + \"-\".join(map(str, qubits)));"
   ]
  },
  {
   "cell_type": "markdown",
   "metadata": {},
   "source": [
    "## With calibration"
   ]
  },
  {
   "cell_type": "code",
   "execution_count": null,
   "metadata": {},
   "outputs": [],
   "source": [
    "import collections\n",
    "\n",
    "import numpy as np\n",
    "from scipy.optimize import curve_fit"
   ]
  },
  {
   "cell_type": "code",
   "execution_count": null,
   "metadata": {},
   "outputs": [],
   "source": [
    "to_run[1].count_ops()"
   ]
  },
  {
   "cell_type": "markdown",
   "metadata": {},
   "source": [
    "## (1) Run calibration circuits to determine coherent error"
   ]
  },
  {
   "cell_type": "code",
   "execution_count": null,
   "metadata": {},
   "outputs": [],
   "source": [
    "calibration_depths = list(range(0, 100 + 1, 2))\n",
    "\n",
    "calibration_circuits = []\n",
    "for cdepth in calibration_depths:\n",
    "    qreg = qiskit.QuantumRegister(len(qubits))\n",
    "    calibration = qiskit.QuantumCircuit(qreg)\n",
    "    for _ in range(cdepth):\n",
    "        calibration.sx(qreg)\n",
    "    # print(calibration.draw(fold=-1))\n",
    "    if cdepth == 0:\n",
    "        calibration.id(qreg)\n",
    "    calibration.measure_active()\n",
    "    compiled = qiskit.transpile(\n",
    "        calibration,\n",
    "        backend=computer,\n",
    "        initial_layout=qubits,\n",
    "        optimization_level=0,\n",
    "    )\n",
    "    calibration_circuits.append(compiled)"
   ]
  },
  {
   "cell_type": "code",
   "execution_count": null,
   "metadata": {},
   "outputs": [],
   "source": [
    "job_calibration = sampler.run(calibration_circuits, shots=nshots)\n",
    "# job_calibration = service.job(\"cukfckm0uq1s73bi7kt0\")"
   ]
  },
  {
   "cell_type": "code",
   "execution_count": null,
   "metadata": {},
   "outputs": [],
   "source": [
    "all_counts_calibration = [result.data.measure.get_counts() for result in job_calibration.result()]"
   ]
  },
  {
   "cell_type": "code",
   "execution_count": null,
   "metadata": {},
   "outputs": [],
   "source": [
    "all_counts_calibration[0]"
   ]
  },
  {
   "cell_type": "code",
   "execution_count": null,
   "metadata": {},
   "outputs": [],
   "source": [
    "def get_counts_for(qubit: int, qubits: list[int], counts: dict[str, int]) -> dict[str, int]:\n",
    "    qubit_counts = collections.Counter()\n",
    "    for k, v in counts.items():\n",
    "        qubit_counts[k[qubits.index(qubit)]] += v\n",
    "    return dict(qubit_counts)\n"
   ]
  },
  {
   "cell_type": "code",
   "execution_count": null,
   "metadata": {},
   "outputs": [],
   "source": [
    "for counts_calibration in all_counts_calibration:\n",
    "    for qubit in qubits:\n",
    "        assert sum(get_counts_for(qubit, qubits, counts_calibration).values()) == nshots"
   ]
  },
  {
   "cell_type": "code",
   "execution_count": null,
   "metadata": {},
   "outputs": [],
   "source": [
    "qubit_counts = {\n",
    "    q: [get_counts_for(q, qubits, counts_calibration).get(\"0\", 0) / nshots for counts_calibration in all_counts_calibration]\n",
    "    for q in qubits\n",
    "}"
   ]
  },
  {
   "cell_type": "code",
   "execution_count": null,
   "metadata": {},
   "outputs": [],
   "source": [
    "for q in qubits:\n",
    "    plt.plot(qubit_counts[q], \"o\", label=f\"Qubit {q}\", alpha=0.5)\n",
    "plt.legend();"
   ]
  },
  {
   "cell_type": "code",
   "execution_count": null,
   "metadata": {},
   "outputs": [],
   "source": [
    "def fit(xs, a=1.0, phi=0.0):\n",
    "    return (a * np.cos(xs * (np.pi - phi) / 2) + 1) / 2"
   ]
  },
  {
   "cell_type": "code",
   "execution_count": null,
   "metadata": {},
   "outputs": [],
   "source": [
    "xdim = int(np.ceil(np.sqrt(len(qubits))))\n",
    "ydim = int(np.floor(np.sqrt(len(qubits))))"
   ]
  },
  {
   "cell_type": "code",
   "execution_count": null,
   "metadata": {},
   "outputs": [],
   "source": [
    "fig, axes = plt.subplots(xdim, ydim, sharex=True, sharey=True, figsize=(17, 5))\n",
    "axes = axes.flatten()\n",
    "\n",
    "xvals = calibration_depths\n",
    "\n",
    "for i, qubit in enumerate(qubits):\n",
    "    axes[i].plot(xvals, qubit_counts[qubit], \"o\", label=\"Data\")\n",
    "\n",
    "    xs = np.linspace(xvals[0], xvals[-1], 1000)\n",
    "    axes[i].plot(xs, fit(xs), label=\"Ideal\")\n",
    "    axes[i].set_title(f\"Qubit {qubit}\")\n",
    "    axes[i].legend()"
   ]
  },
  {
   "cell_type": "code",
   "execution_count": null,
   "metadata": {},
   "outputs": [],
   "source": [
    "phis = {}\n",
    "for qubit in qubits:\n",
    "    (a_opt, phi_opt), *_ = curve_fit(fit, xvals, qubit_counts[qubit], p0=[1.0, 0.0])\n",
    "    phis[qubit] = phi_opt\n",
    "phis"
   ]
  },
  {
   "cell_type": "code",
   "execution_count": null,
   "metadata": {},
   "outputs": [],
   "source": [
    "fig, axes = plt.subplots(xdim, ydim, sharex=True, sharey=True, figsize=(17, 5))\n",
    "axes = axes.flatten()\n",
    "\n",
    "xvals = calibration_depths\n",
    "\n",
    "for i, qubit in enumerate(qubits):\n",
    "    axes[i].plot(xvals, qubit_counts[qubit], \"o\")\n",
    "\n",
    "    xs = np.linspace(xvals[0], xvals[-1], 1000)\n",
    "    axes[i].plot(xs, fit(xs), alpha=0.5, label=\"Uncalibrated\")\n",
    "    axes[i].plot(xs, fit(xs, phi=phis[qubit]), alpha=0.5, label=\"Calibrated\")\n",
    "    axes[i].set_title(f\"Qubit {qubit}, $\\phi^* = {round(phis[qubit], 5)}$\")\n",
    "\n",
    "plt.tight_layout()\n",
    "plt.legend();"
   ]
  },
  {
   "cell_type": "markdown",
   "metadata": {},
   "source": [
    "## (2) Apply correction to circuits"
   ]
  },
  {
   "cell_type": "code",
   "execution_count": null,
   "metadata": {},
   "outputs": [],
   "source": [
    "def calibrate_sx(circuit: qiskit.QuantumCircuit, correction_angle: dict[int, float]) -> qiskit.QuantumCircuit:\n",
    "    \"\"\"Applies the per-qubit correction angle to square-root of NOT gates in the circuit,\n",
    "    returning a new circuit.\n",
    "    \n",
    "    Args:\n",
    "        circuit: Circuit to calibrate SX gates in.\n",
    "        correction_angle: A dictionary of SX correction angles per qubit.\n",
    "    \"\"\"\n",
    "    calibrated = circuit.copy_empty_like()\n",
    "\n",
    "    for instruction in circuit.data:\n",
    "        if instruction.name == \"sx\":\n",
    "            qubit = instruction.qubits[0]._index\n",
    "            calibrated.append(\n",
    "                qiskit.circuit.CircuitInstruction(\n",
    "                    qiskit.circuit.library.RXGate((np.pi + correction_angle[qubit]) / 2),\n",
    "                    qubits=instruction.qubits,\n",
    "                    clbits=instruction.clbits\n",
    "                )\n",
    "            )\n",
    "        else:\n",
    "            calibrated.append(instruction)\n",
    "    return calibrated"
   ]
  },
  {
   "cell_type": "markdown",
   "metadata": {},
   "source": [
    "## (3) Run benchmarks with calibrated gates"
   ]
  },
  {
   "cell_type": "code",
   "execution_count": null,
   "metadata": {},
   "outputs": [],
   "source": [
    "calibration_depths = list(range(0, 1000 + 1, 32))\n",
    "\n",
    "calibration_circuits = []\n",
    "for cdepth in calibration_depths:\n",
    "    qreg = qiskit.QuantumRegister(len(qubits))\n",
    "    calibration = qiskit.QuantumCircuit(qreg)\n",
    "    for _ in range(cdepth):\n",
    "        calibration.sx(qreg)\n",
    "    # print(calibration.draw(fold=-1))\n",
    "    if cdepth == 0:\n",
    "        calibration.id(qreg)\n",
    "    calibration.measure_active()\n",
    "    compiled = qiskit.transpile(\n",
    "        calibration,\n",
    "        backend=computer,\n",
    "        initial_layout=qubits,\n",
    "        optimization_level=0,\n",
    "    )\n",
    "    calibration_circuits.append(compiled)"
   ]
  },
  {
   "cell_type": "code",
   "execution_count": null,
   "metadata": {},
   "outputs": [],
   "source": [
    "job_uc = sampler.run(calibration_circuits, shots=nshots)"
   ]
  },
  {
   "cell_type": "code",
   "execution_count": null,
   "metadata": {},
   "outputs": [],
   "source": [
    "all_counts_uc = [result.data.measure.get_counts() for result in job_uc.result()]"
   ]
  },
  {
   "cell_type": "code",
   "execution_count": null,
   "metadata": {},
   "outputs": [],
   "source": [
    "qubit_counts = {\n",
    "    q: [get_counts_for(q, qubits, counts_calibration).get(\"0\", 0) / nshots for counts_calibration in all_counts_uc]\n",
    "    for q in qubits\n",
    "}"
   ]
  },
  {
   "cell_type": "code",
   "execution_count": null,
   "metadata": {},
   "outputs": [],
   "source": [
    "for q in qubits:\n",
    "    plt.plot(qubit_counts[q], \"--o\", label=f\"Qubit {q}\", alpha=0.5)"
   ]
  },
  {
   "cell_type": "code",
   "execution_count": null,
   "metadata": {},
   "outputs": [],
   "source": [
    "calibrated_circuits = []\n",
    "for circuit in calibration_circuits:\n",
    "    calibrated = calibrate_sx(circuit, phis)\n",
    "    calibrated = qiskit.transpile(\n",
    "        calibrated,\n",
    "        backend=computer,\n",
    "        optimization_level=0,\n",
    "    )\n",
    "    calibrated_circuits.append(calibrated)"
   ]
  },
  {
   "cell_type": "code",
   "execution_count": null,
   "metadata": {},
   "outputs": [],
   "source": [
    "job_c = sampler.run(calibrated_circuits, shots=nshots)"
   ]
  },
  {
   "cell_type": "code",
   "execution_count": null,
   "metadata": {},
   "outputs": [],
   "source": [
    "all_counts_c = [result.data.measure.get_counts() for result in job_c.result()]"
   ]
  },
  {
   "cell_type": "code",
   "execution_count": null,
   "metadata": {},
   "outputs": [],
   "source": [
    "qubit_counts_c = {\n",
    "    q: [get_counts_for(q, qubits, counts_calibration).get(\"0\", 0) / nshots for counts_calibration in all_counts_c]\n",
    "    for q in qubits\n",
    "}"
   ]
  },
  {
   "cell_type": "code",
   "execution_count": null,
   "metadata": {},
   "outputs": [],
   "source": [
    "plt.figure(figsize=(17, 5))\n",
    "plt.subplot(121)\n",
    "for q in qubits:\n",
    "    plt.plot(qubit_counts[q], \"--o\", label=f\"Qubit {q}\", alpha=0.5)\n",
    "plt.legend()\n",
    "plt.xlabel(\"Depth\")\n",
    "plt.ylabel(\"Ground state population\")\n",
    "plt.title(\"Uncalibrated\");\n",
    "\n",
    "plt.subplot(122)\n",
    "for q in qubits:\n",
    "    plt.plot(qubit_counts_c[q], \"--o\", label=f\"Qubit {q}\", alpha=0.5)\n",
    "plt.legend()\n",
    "plt.xlabel(\"Depth\")\n",
    "plt.ylabel(\"Ground state population\")\n",
    "plt.title(\"Calibrated\");"
   ]
  },
  {
   "cell_type": "markdown",
   "metadata": {},
   "source": [
    "### (3.2) Quantum volume echo"
   ]
  },
  {
   "cell_type": "code",
   "execution_count": null,
   "metadata": {},
   "outputs": [],
   "source": [
    "to_run_calibrated = [\n",
    "    qiskit.transpile(calibrate_sx(circuit, phis), backend=computer, optimization_level=0) for circuit in to_run\n",
    "]"
   ]
  },
  {
   "cell_type": "code",
   "execution_count": null,
   "metadata": {},
   "outputs": [],
   "source": [
    "job_calibrated = sampler.run(to_run_calibrated, shots=nshots)"
   ]
  },
  {
   "cell_type": "code",
   "execution_count": null,
   "metadata": {},
   "outputs": [],
   "source": [
    "all_counts_calibrated = [result.data.measure.get_counts() for result in job_calibrated.result()]\n",
    "survival_probs_calibrated = [counts.get(\"0\" * len(qubits), 0) / nshots for counts in all_counts_calibrated]"
   ]
  },
  {
   "cell_type": "code",
   "execution_count": null,
   "metadata": {},
   "outputs": [],
   "source": [
    "plt.semilogy(depths, survival_probs, \"--o\", ms=10, mec=\"black\", alpha=0.5, label=\"Physical\")\n",
    "plt.semilogy(depths, survival_probs_dd, \"--o\", ms=10, mec=\"black\", alpha=0.5, label=\"DD\")\n",
    "plt.semilogy(depths, survival_probs_rem, \"--o\", ms=10, mec=\"black\", alpha=0.5, label=\"REM\")\n",
    "plt.semilogy(depths, survival_probs_dd_rem, \"--o\", ms=10, mec=\"black\", alpha=0.5, label=\"DD + REM\")\n",
    "plt.semilogy(depths, survival_probs_calibrated, \"--o\", ms=10, mec=\"black\", alpha=0.5, label=r\"Calibrated $\\sqrt{X}$\")\n",
    "plt.xlabel(\"Depth\")\n",
    "plt.ylabel(\"Survival probability\")\n",
    "plt.legend()\n",
    "plt.title(f\"Loschmidt echo tests on {ibm_computer} qubits \" + \"-\".join(map(str, qubits)));"
   ]
  },
  {
   "cell_type": "markdown",
   "metadata": {},
   "source": []
  }
 ],
 "metadata": {
  "kernelspec": {
   "display_name": "Python 3 (ipykernel)",
   "language": "python",
   "name": "python3"
  },
  "language_info": {
   "codemirror_mode": {
    "name": "ipython",
    "version": 3
   },
   "file_extension": ".py",
   "mimetype": "text/x-python",
   "name": "python",
   "nbconvert_exporter": "python",
   "pygments_lexer": "ipython3",
   "version": "3.10.17"
  }
 },
 "nbformat": 4,
 "nbformat_minor": 4
}
